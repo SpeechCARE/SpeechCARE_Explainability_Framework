{
 "cells": [
  {
   "cell_type": "markdown",
   "metadata": {
    "id": "wrbg_DGem7is"
   },
   "source": [
    "# **Solution**\n",
    "\n",
    "---\n",
    "\n",
    "\n",
    "## **PREPARE Challenge - Phase 3**"
   ]
  },
  {
   "cell_type": "markdown",
   "metadata": {
    "id": "lzuLE9lamzwI"
   },
   "source": [
    "# **Summary**\n",
    "\n",
    "---\n",
    "\n",
    "\n",
    "\n",
    "### This Notebook Covers:\n",
    "✅ **Component 0. Setup Environment**: Install dependencies, load SpeachCARE model checkpoints & configure paths\n",
    "\n",
    "✅ **Component 1.  Model Initialization & Data Preprocessing**: Initializing the SpeachCARE model with the trained checkpoint; preprocessing audio data. To run this step the path to the speaker's audio file and age must be specified if you want to use your own data.\n",
    "\n",
    "✅ **Component 2.  SHAP-Highlighted Transcripts**: Visualization of linguistic cues using SHAP (Shapley Additive exPlanations). This process generates SHAP values, quantifying the contribution of each textual input's token to the SPeechCARE model decision making.\n",
    "\n",
    "✅ **Component 3: Linguistic Features of the Transcripts (NEW In Phase 3)**: Extraction of a set of predefined linguistic features from the transcripts. These features provide a method to quantify the transcript with regard to four main categories (Lexical Richness, Syntactic Complexity, Disfluencies and Repetition, and Semantic Coherence and Referential Clarity), which are later used to provide an interpretation of the transcripts.\n",
    "\n",
    "✅ **Component 4: Transcript Interpretation with Linguistic Features and SHAP Analysis: LLaMA 70B as LLM for Interpretation (IMPROVED IN PAHSE 3)**:\n",
    "The system integrates token-level SHAP values with quantified linguistic features to interpret the transcript across multiple dimensions. First, it analyzes the SHAP values to identify which parts of the text most influenced the model’s decision, focusing on lexical items, syntactic patterns, and semantic cues. Then, it incorporates linguistic features categorized into four key areas: Lexical Richness (e.g., diversity of vocabulary), Syntactic Complexity (e.g., use of embedded or coordinated structures), Disfluencies and Repetition (e.g., fillers, pauses, repeated words), and Semantic Coherence and Referential Clarity (e.g., logical flow, clear referents). Finally, both layers of analysis—model-driven (SHAP) and linguistic—are combined to provide a comprehensive interpretation, capturing the interplay between surface-level cues and deeper structural and semantic patterns in the transcript.\n",
    "\n"
   ]
  },
  {
   "cell_type": "markdown",
   "metadata": {
    "id": "KtR-qUuWmxnj"
   },
   "source": [
    "# **Hardware**\n",
    "\n",
    "---\n",
    "\n",
    "**Hardware Requirements**\n",
    "*  Components 1–4: A minimum of one NVIDIA T4 GPU with 16 GB of VRAM is required.\n",
    "\n",
    "\n",
    "**Training Time**\n",
    "*  No training is needed; you only need to load the model checkpoint.\n",
    "\n",
    "**Inference Time**\n",
    "*  Components 1–4: Inference time is estimated to be less than 2 minutes for each component.\n"
   ]
  },
  {
   "cell_type": "markdown",
   "metadata": {
    "id": "26pMRLcFIcm1"
   },
   "source": [
    "# **Component 0. Setup Environment**\n",
    "\n",
    "---\n",
    "\n",
    "**Install the required python packages**\n",
    "\n",
    "This cell installs all Python packages listed in `requirements.txt`. The file contains all necessary dependencies.\n",
    "\n",
    "- Run this cell only once at the beginning of your session\n",
    "\n",
    "- If you encounter errors, you may need to restart the runtime after installation\n"
   ]
  },
  {
   "cell_type": "code",
   "execution_count": null,
   "metadata": {
    "id": "E6BWW68nGgmI"
   },
   "outputs": [],
   "source": [
    "!git clone https://github.com/SpeechCARE/SpeechCARE_Explainability_Framework.git"
   ]
  },
  {
   "cell_type": "code",
   "execution_count": 4,
   "metadata": {
    "id": "sIvNUvkEYfwg"
   },
   "outputs": [],
   "source": [
    "import sys\n",
    "sys.path.append('/content/SpeechCARE_Linguistic_Explainability_Framework')"
   ]
  },
  {
   "cell_type": "code",
   "execution_count": null,
   "metadata": {
    "id": "efHVa7FmYwG6"
   },
   "outputs": [],
   "source": [
    "%cd SpeechCARE_Explainability_Framework"
   ]
  },
  {
   "cell_type": "code",
   "execution_count": null,
   "metadata": {
    "id": "JZo9CF71nUbp",
    "scrolled": true
   },
   "outputs": [],
   "source": [
    "!pip install --upgrade pip\n",
    "!pip uninstall xformers -y\n",
    "!pip install -r requirements.txt\n",
    "!apt update && apt install ffmpeg -y"
   ]
  },
  {
   "cell_type": "markdown",
   "metadata": {
    "id": "numZV71DnXpV"
   },
   "source": [
    "**Import Necessary Libraries**\n",
    "\n",
    "This cell imports all required Python libraries and modules. The imports are organized by functionality for better understanding."
   ]
  },
  {
   "cell_type": "code",
   "execution_count": null,
   "metadata": {
    "id": "_waf9-YKnf8L"
   },
   "outputs": [],
   "source": [
    "# Model and weights management\n",
    "from model.WeightsManager import WeightManager\n",
    "from model.ModelWrapper import ModelWrapper\n",
    "\n",
    "# SHAP analysis tools\n",
    "from explainability.SHAP.LinguisticShap import LinguisticShap\n",
    "\n",
    "# Configuration handling\n",
    "from utils.Config import Config\n",
    "from utils.Utils import load_yaml_file\n",
    "from utils.dataset_utils import preprocess_data\n",
    "\n",
    "# Data processing and visualization\n",
    "import pandas as pd\n",
    "import yaml\n",
    "import torch\n",
    "from IPython.display import Image, display, Markdown, HTML\n",
    "\n",
    "# General explainability functionality\n",
    "from linguistic_module.text_feature_extraction import TextFeatureExtractor\n",
    "from linguistic_module.text_interpreter import TextInterpreter\n",
    "from linguistic_module.utils import visualize_linguistic_features,generate_final_linguistic_interpretation_html\n",
    "\n",
    "# Suppress warnings for cleaner output\n",
    "import warnings\n",
    "warnings.filterwarnings('ignore')"
   ]
  },
  {
   "cell_type": "markdown",
   "metadata": {
    "id": "WqBYFUeiRIbb"
   },
   "source": [
    "**OpenRouter API Configuration**\n",
    "\n",
    "Configure the OpenRouter API connection settings for making requests.\n",
    "\n",
    "**Configuration Options:**\n",
    "\n",
    "* `api_key`: Replace 'YOUR_API_KEY' with your actual OpenRouter API key\n",
    "\n",
    "* `base_url`: The OpenRouter API endpoint (typically doesn't need modification)"
   ]
  },
  {
   "cell_type": "code",
   "execution_count": 11,
   "metadata": {
    "id": "oiBmkiHiQziQ"
   },
   "outputs": [],
   "source": [
    "openrouter_base_url = 'https://openrouter.ai/api/v1'\n",
    "open_ai = {'api_key': 'YOUR_API_KEY', 'base_url':openrouter_base_url}"
   ]
  },
  {
   "cell_type": "markdown",
   "metadata": {
    "id": "eFGF1LmCnuPY"
   },
   "source": [
    "**Download Model Checkpoint**\n",
    "\n",
    "Downloade-trained modecheckpointts from Google Drive using the WeightManager class.\n",
    "\n",
    "\n",
    "**Configuration Options:**\n",
    "\n",
    "- `file_id`: Replace with your own Google Drive file ID\n",
    "\n",
    "- `output_name`: Change to save weights with a different filename"
   ]
  },
  {
   "cell_type": "code",
   "execution_count": null,
   "metadata": {
    "id": "HKvF0R6eZkHI"
   },
   "outputs": [],
   "source": [
    "# Initialize the weight manager\n",
    "weight_manager = WeightManager()\n",
    "\n",
    "try:\n",
    "    # Download model weights from Google Drive\n",
    "    weight_path = weight_manager.download_weights(\n",
    "        file_id=\"1-SLBGZRoNGRPHBtWJUDR8WCFpFiVYJM4\",  # Google Drive file ID\n",
    "        output_name=\"model.pt\",                       # Name for downloaded file\n",
    "    )\n",
    "    print(f\"Success: Weights saved to {weight_path}\")\n",
    "\n",
    "except Exception as e:\n",
    "    print(f\"Error downloading weights: {e}\")\n",
    "    print(\"Please check:\")\n",
    "    print(\"- Your internet connection\")\n",
    "    print(\"- The file ID is correct\")\n",
    "    print(\"- Google Drive permissions\")"
   ]
  },
  {
   "cell_type": "markdown",
   "metadata": {
    "id": "w8LR3P-Ln1US"
   },
   "source": [
    "**Load and Display Configurations**\n",
    "\n",
    "Loads and displays configuration file that control model behavior."
   ]
  },
  {
   "cell_type": "code",
   "execution_count": 9,
   "metadata": {
    "colab": {
     "base_uri": "https://localhost:8080/",
     "height": 405
    },
    "id": "B3rjYXUFZlpE",
    "outputId": "7e2bdf9c-b910-4ee4-cf02-917ab7f00314"
   },
   "outputs": [
    {
     "data": {
      "text/markdown": [
       "### Model Configuration"
      ],
      "text/plain": [
       "<IPython.core.display.Markdown object>"
      ]
     },
     "metadata": {},
     "output_type": "display_data"
    },
    {
     "data": {
      "text/plain": [
       "{'model_checkpoints': {'HUBERT': 'facebook/hubert-base-ls960',\n",
       "  'WAV2VEC2': 'facebook/wav2vec2-base-960h',\n",
       "  'mHuBERT': 'utter-project/mHuBERT-147',\n",
       "  'MGTEBASE': 'Alibaba-NLP/gte-multilingual-base',\n",
       "  'WHISPER': 'openai/whisper-large-v3-turbo'},\n",
       " 'config': {'seed': 133,\n",
       "  'bs': 4,\n",
       "  'epochs': 14,\n",
       "  'lr': '1e-6',\n",
       "  'hidden_size': 128,\n",
       "  'wd': '1e-3',\n",
       "  'integration': 16,\n",
       "  'num_labels': 3,\n",
       "  'txt_transformer_chp': 'Alibaba-NLP/gte-multilingual-base',\n",
       "  'speech_transformer_chp': 'utter-project/mHuBERT-147',\n",
       "  'segment_size': 5,\n",
       "  'active_layers': 12,\n",
       "  'demography': 'age_bin',\n",
       "  'demography_hidden_size': 128,\n",
       "  'max_num_segments': 7}}"
      ]
     },
     "metadata": {},
     "output_type": "display_data"
    }
   ],
   "source": [
    "# Display model configuration\n",
    "display(Markdown(\"### Model Configuration\"))\n",
    "with open(\"data/model_config.yaml\") as f:\n",
    "    model_config = yaml.safe_load(f)\n",
    "    display(model_config)\n",
    "\n",
    "# Initialize config objects for the application\n",
    "config = Config(load_yaml_file(\"data/model_config.yaml\"))"
   ]
  },
  {
   "cell_type": "markdown",
   "metadata": {
    "id": "d8hVEd--IOFX"
   },
   "source": [
    "# **Component 1: Model Initialization & Data Preprocessing**\n",
    "---"
   ]
  },
  {
   "cell_type": "markdown",
   "metadata": {
    "id": "3lQ_laWcNect"
   },
   "source": [
    "### **Model Intialization:**\n",
    "The SpeechCARE model with trained checkpoint is loaded here.\n",
    "\n",
    "\n",
    "**Key Components:**\n",
    "\n",
    "- `ModelWrapper`: Handles model architecture\n",
    "\n",
    "- `config`: Contains model parameters\n",
    "\n",
    "- `weight_path`: Location of trained SpeechCARE model checkpoint"
   ]
  },
  {
   "cell_type": "code",
   "execution_count": null,
   "metadata": {
    "id": "aF4jOyyWD9yv"
   },
   "outputs": [],
   "source": [
    "# Initialize model wrapper with configuration\n",
    "wrapper = ModelWrapper(config)\n",
    "\n",
    "# Load trained weights into the model\n",
    "model = wrapper.get_model(weight_path)\n",
    "model.eval()\n",
    "\n",
    "print(\"Model successfully initialized with weights from:\", weight_path)"
   ]
  },
  {
   "cell_type": "markdown",
   "metadata": {
    "id": "OHukeBsJOCHm"
   },
   "source": [
    "### **Data Preprocessing:**\n",
    "\n",
    "Prepares a specific audio sample by denoising the audio, providing its transcription and age category. You should provide:\n",
    "\n",
    "- `AUDIO_PATH`: Full path to the audio file, WAV format recommended (required for an individual sample) .\n",
    "- `AGE`: Age of the speaker as an integer value (required for an individual sample)."
   ]
  },
  {
   "cell_type": "code",
   "execution_count": 12,
   "metadata": {
    "id": "poenfglQKo-u"
   },
   "outputs": [],
   "source": [
    "AUDIO_PATH = f\"data/qnvo.mp3\"  # Path to the input audio file (update it with your desired audio file path)\n",
    "ID = \"qnvo\"\n",
    "AGE = 72  # Age of the speaker"
   ]
  },
  {
   "cell_type": "code",
   "execution_count": null,
   "metadata": {
    "id": "5LEbfrr1Ch-y"
   },
   "outputs": [],
   "source": [
    "# Process audio sample and corresponding age\n",
    "# Arguments:\n",
    "#   audio_path: Path to input audio file\n",
    "#   age: Speaker's age\n",
    "#   output_dir: Directory to store processed audio file\n",
    "\n",
    "processed_audio_path, demography_info, transcription = preprocess_data(audio_path=AUDIO_PATH, age=AGE, output_dir='../processed_audio')\n",
    "\n",
    "# Convert age (by default: int) to tensor\n",
    "# Reshaped it to (1, 1) for batch processing compatibility\n",
    "demography_tensor = torch.tensor(demography_info, dtype=torch.float16).reshape(1, 1)\n",
    "\n",
    "# --- Word-Level Analysis Setup ---\n",
    "# Print analysis information for verification\n",
    "print(f\"Analyzing sample: {processed_audio_path}\")\n",
    "print(f\"Speaker age category: {demography_info}\")\n"
   ]
  },
  {
   "cell_type": "markdown",
   "metadata": {
    "id": "SFiRtQ6tBu2L"
   },
   "source": [
    "# **Component 2: SHAP-Highlighted Transcripts**\n",
    "\n",
    "\n",
    "---\n",
    "Visualization of linguistic cues using SHAP (Shapley Additive exPlanations). This process generates SHAP values, quantifying the contribution of each textual input's token to the SPeechCARE model decision making.\n",
    "\n",
    "\n",
    "\n"
   ]
  },
  {
   "cell_type": "markdown",
   "metadata": {
    "id": "tz0FoDz7vPwg"
   },
   "source": [
    "#### Initalizing the linguistic explainer class\n"
   ]
  },
  {
   "cell_type": "code",
   "execution_count": 14,
   "metadata": {
    "colab": {
     "base_uri": "https://localhost:8080/"
    },
    "id": "a__fu4MOCVP-",
    "outputId": "af6f82f6-ebec-43f6-a1d2-e1375038a77e"
   },
   "outputs": [
    {
     "name": "stdout",
     "output_type": "stream",
     "text": [
      "Linguistic explainer ready for analysis\n"
     ]
    }
   ],
   "source": [
    "linguistc_explainer = LinguisticShap(model)\n",
    "print(\"Linguistic explainer ready for analysis\")"
   ]
  },
  {
   "cell_type": "markdown",
   "metadata": {
    "id": "wd_sOd_PvPwh"
   },
   "source": [
    "#### Run inference to get predicted_label and transcription"
   ]
  },
  {
   "cell_type": "code",
   "execution_count": null,
   "metadata": {
    "id": "00Zlhe7eB9b3"
   },
   "outputs": [],
   "source": [
    "predicted_label, probabilities = model.inference(config=config,audio_path = processed_audio_path, demography_info=AGE)\n",
    "print(\"Running inference to compute predicted_label and transcription.\")"
   ]
  },
  {
   "cell_type": "markdown",
   "metadata": {
    "id": "_urUPBZSvPwh"
   },
   "source": [
    "#### Generating SHAP values"
   ]
  },
  {
   "cell_type": "code",
   "execution_count": 16,
   "metadata": {
    "id": "KNRiUGzKCuY-"
   },
   "outputs": [
    {
     "name": "stdout",
     "output_type": "stream",
     "text": [
      "Running SHAP values...\n",
      "Input text: [\" from the cookie jar and he's going to fall off the stool and the sink and the bath and the kitchen is overflowing and the mother is drying the dishes and I see the backyard through the window and what else? The cookie jar, boy and a girl and it's on the top shelf and he's going to fall off that stool and what else? The mom's going to slip on the water if she doesn't be careful. And what else do you want me to tell you? Do you want me to describe everything on that that I see? Oh, that's it, I think. She's drying the dish. Yes, I can. Okay, so the\"]\n",
      "Values explained...\n",
      "In len 2\n",
      "mci\n"
     ]
    }
   ],
   "source": [
    "shap_values, shap_html_result = linguistc_explainer.get_text_shap_results()"
   ]
  },
  {
   "cell_type": "markdown",
   "metadata": {
    "id": "RvkUn_iyvPwi"
   },
   "source": [
    "#### Highlighting informative linguistic cues\n",
    "\n",
    "\n",
    "\n"
   ]
  },
  {
   "cell_type": "code",
   "execution_count": 17,
   "metadata": {
    "colab": {
     "base_uri": "https://localhost:8080/",
     "height": 139
    },
    "id": "Edn-e43NZMXu",
    "outputId": "4e7b8390-e54c-442d-e629-10ed940da53b"
   },
   "outputs": [
    {
     "data": {
      "text/html": [
       "\n",
       "    <br>\n",
       "    <hr style=\"height: 1px; background-color: #e6f2f4; border: none; margin-top: 18px; margin-bottom: 18px; border-top: 1px dashed #ccc;\"\">\n",
       "    <div align=\"center\" style=\"margin-top: -35px;\"><div style=\"display: inline-block; background: #e6f2f4; padding: 5px; color: #999; font-family: monospace\"></div>\n",
       "    </div>\n",
       "     <div align='center' style='background: rgba(230.0, 242.0, 244.0, 1.0); padding-bottom:25px; font-family: Arial; color: rgb(0,0,0);'>\n",
       "                <div align='center'><div style=\"color: rgb(0,0,0); font-size: 12px; margin-bottom:25px;margin-top: -15px;\">transcript text</div><div style='display: inline; text-align: center;'\n",
       "    ><div style='display: none; color: #999; padding-top: 0px; font-size: 12px;'>-0.015 / 5</div\n",
       "        ><div id='_tp_yqlifpykdvoqffddvwvx_ind_0'\n",
       "            style='display: inline; background: rgba(230.0, 242.0, 244.0, 0.14078035254505836); border-radius: 3px; padding: 0px'\n",
       "            onclick=\"\n",
       "            if (this.previousSibling.style.display == 'none') {\n",
       "                this.previousSibling.style.display = 'block';\n",
       "                this.parentNode.style.display = 'inline-block';\n",
       "            } else {\n",
       "                this.previousSibling.style.display = 'none';\n",
       "                this.parentNode.style.display = 'inline';\n",
       "            }\"\n",
       "            onmouseover=\"document.getElementById('_fb_yqlifpykdvoqffddvwvx_ind_0').style.opacity = 1; document.getElementById('_fs_yqlifpykdvoqffddvwvx_ind_0').style.opacity = 1;\"\n",
       "            onmouseout=\"document.getElementById('_fb_yqlifpykdvoqffddvwvx_ind_0').style.opacity = 0; document.getElementById('_fs_yqlifpykdvoqffddvwvx_ind_0').style.opacity = 0;\"\n",
       "        > from the cookie jar </div></div><div style='display: inline; text-align: center;'\n",
       "    ><div style='display: none; color: #999; padding-top: 0px; font-size: 12px;'>0.01</div\n",
       "        ><div id='_tp_yqlifpykdvoqffddvwvx_ind_1'\n",
       "            style='display: inline; background: rgba(255.0, 195.0, 0.0, 0.09348385818974037); border-radius: 3px; padding: 0px'\n",
       "            onclick=\"\n",
       "            if (this.previousSibling.style.display == 'none') {\n",
       "                this.previousSibling.style.display = 'block';\n",
       "                this.parentNode.style.display = 'inline-block';\n",
       "            } else {\n",
       "                this.previousSibling.style.display = 'none';\n",
       "                this.parentNode.style.display = 'inline';\n",
       "            }\"\n",
       "            onmouseover=\"document.getElementById('_fb_yqlifpykdvoqffddvwvx_ind_1').style.opacity = 1; document.getElementById('_fs_yqlifpykdvoqffddvwvx_ind_1').style.opacity = 1;\"\n",
       "            onmouseout=\"document.getElementById('_fb_yqlifpykdvoqffddvwvx_ind_1').style.opacity = 0; document.getElementById('_fs_yqlifpykdvoqffddvwvx_ind_1').style.opacity = 0;\"\n",
       "        >and </div></div><div style='display: inline; text-align: center;'\n",
       "    ><div style='display: none; color: #999; padding-top: 0px; font-size: 12px;'>0.003 / 3</div\n",
       "        ><div id='_tp_yqlifpykdvoqffddvwvx_ind_2'\n",
       "            style='display: inline; background: rgba(255.0, 195.0, 0.0, 0.02253911665676371); border-radius: 3px; padding: 0px'\n",
       "            onclick=\"\n",
       "            if (this.previousSibling.style.display == 'none') {\n",
       "                this.previousSibling.style.display = 'block';\n",
       "                this.parentNode.style.display = 'inline-block';\n",
       "            } else {\n",
       "                this.previousSibling.style.display = 'none';\n",
       "                this.parentNode.style.display = 'inline';\n",
       "            }\"\n",
       "            onmouseover=\"document.getElementById('_fb_yqlifpykdvoqffddvwvx_ind_2').style.opacity = 1; document.getElementById('_fs_yqlifpykdvoqffddvwvx_ind_2').style.opacity = 1;\"\n",
       "            onmouseout=\"document.getElementById('_fb_yqlifpykdvoqffddvwvx_ind_2').style.opacity = 0; document.getElementById('_fs_yqlifpykdvoqffddvwvx_ind_2').style.opacity = 0;\"\n",
       "        >he's </div></div><div style='display: inline; text-align: center;'\n",
       "    ><div style='display: none; color: #999; padding-top: 0px; font-size: 12px;'>0.003 / 2</div\n",
       "        ><div id='_tp_yqlifpykdvoqffddvwvx_ind_3'\n",
       "            style='display: inline; background: rgba(255.0, 195.0, 0.0, 0.02253911665676371); border-radius: 3px; padding: 0px'\n",
       "            onclick=\"\n",
       "            if (this.previousSibling.style.display == 'none') {\n",
       "                this.previousSibling.style.display = 'block';\n",
       "                this.parentNode.style.display = 'inline-block';\n",
       "            } else {\n",
       "                this.previousSibling.style.display = 'none';\n",
       "                this.parentNode.style.display = 'inline';\n",
       "            }\"\n",
       "            onmouseover=\"document.getElementById('_fb_yqlifpykdvoqffddvwvx_ind_3').style.opacity = 1; document.getElementById('_fs_yqlifpykdvoqffddvwvx_ind_3').style.opacity = 1;\"\n",
       "            onmouseout=\"document.getElementById('_fb_yqlifpykdvoqffddvwvx_ind_3').style.opacity = 0; document.getElementById('_fs_yqlifpykdvoqffddvwvx_ind_3').style.opacity = 0;\"\n",
       "        >going to </div></div><div style='display: inline; text-align: center;'\n",
       "    ><div style='display: none; color: #999; padding-top: 0px; font-size: 12px;'>0.016 / 5</div\n",
       "        ><div id='_tp_yqlifpykdvoqffddvwvx_ind_4'\n",
       "            style='display: inline; background: rgba(255.0, 195.0, 0.0, 0.14866310160427795); border-radius: 3px; padding: 0px'\n",
       "            onclick=\"\n",
       "            if (this.previousSibling.style.display == 'none') {\n",
       "                this.previousSibling.style.display = 'block';\n",
       "                this.parentNode.style.display = 'inline-block';\n",
       "            } else {\n",
       "                this.previousSibling.style.display = 'none';\n",
       "                this.parentNode.style.display = 'inline';\n",
       "            }\"\n",
       "            onmouseover=\"document.getElementById('_fb_yqlifpykdvoqffddvwvx_ind_4').style.opacity = 1; document.getElementById('_fs_yqlifpykdvoqffddvwvx_ind_4').style.opacity = 1;\"\n",
       "            onmouseout=\"document.getElementById('_fb_yqlifpykdvoqffddvwvx_ind_4').style.opacity = 0; document.getElementById('_fs_yqlifpykdvoqffddvwvx_ind_4').style.opacity = 0;\"\n",
       "        >fall off the stool </div></div><div style='display: inline; text-align: center;'\n",
       "    ><div style='display: none; color: #999; padding-top: 0px; font-size: 12px;'>0.022 / 8</div\n",
       "        ><div id='_tp_yqlifpykdvoqffddvwvx_ind_5'\n",
       "            style='display: inline; background: rgba(255.0, 195.0, 0.0, 0.2117250940780353); border-radius: 3px; padding: 0px'\n",
       "            onclick=\"\n",
       "            if (this.previousSibling.style.display == 'none') {\n",
       "                this.previousSibling.style.display = 'block';\n",
       "                this.parentNode.style.display = 'inline-block';\n",
       "            } else {\n",
       "                this.previousSibling.style.display = 'none';\n",
       "                this.parentNode.style.display = 'inline';\n",
       "            }\"\n",
       "            onmouseover=\"document.getElementById('_fb_yqlifpykdvoqffddvwvx_ind_5').style.opacity = 1; document.getElementById('_fs_yqlifpykdvoqffddvwvx_ind_5').style.opacity = 1;\"\n",
       "            onmouseout=\"document.getElementById('_fb_yqlifpykdvoqffddvwvx_ind_5').style.opacity = 0; document.getElementById('_fs_yqlifpykdvoqffddvwvx_ind_5').style.opacity = 0;\"\n",
       "        >and the sink and the bath and </div></div><div style='display: inline; text-align: center;'\n",
       "    ><div style='display: none; color: #999; padding-top: 0px; font-size: 12px;'>-0.041 / 3</div\n",
       "        ><div id='_tp_yqlifpykdvoqffddvwvx_ind_6'\n",
       "            style='display: inline; background: rgba(230.0, 242.0, 244.0, 0.40091107149930677); border-radius: 3px; padding: 0px'\n",
       "            onclick=\"\n",
       "            if (this.previousSibling.style.display == 'none') {\n",
       "                this.previousSibling.style.display = 'block';\n",
       "                this.parentNode.style.display = 'inline-block';\n",
       "            } else {\n",
       "                this.previousSibling.style.display = 'none';\n",
       "                this.parentNode.style.display = 'inline';\n",
       "            }\"\n",
       "            onmouseover=\"document.getElementById('_fb_yqlifpykdvoqffddvwvx_ind_6').style.opacity = 1; document.getElementById('_fs_yqlifpykdvoqffddvwvx_ind_6').style.opacity = 1;\"\n",
       "            onmouseout=\"document.getElementById('_fb_yqlifpykdvoqffddvwvx_ind_6').style.opacity = 0; document.getElementById('_fs_yqlifpykdvoqffddvwvx_ind_6').style.opacity = 0;\"\n",
       "        >the kitchen is </div></div><div style='display: inline; text-align: center;'\n",
       "    ><div style='display: none; color: #999; padding-top: 0px; font-size: 12px;'>-0.038 / 3</div\n",
       "        ><div id='_tp_yqlifpykdvoqffddvwvx_ind_7'\n",
       "            style='display: inline; background: rgba(230.0, 242.0, 244.0, 0.3772628243216478); border-radius: 3px; padding: 0px'\n",
       "            onclick=\"\n",
       "            if (this.previousSibling.style.display == 'none') {\n",
       "                this.previousSibling.style.display = 'block';\n",
       "                this.parentNode.style.display = 'inline-block';\n",
       "            } else {\n",
       "                this.previousSibling.style.display = 'none';\n",
       "                this.parentNode.style.display = 'inline';\n",
       "            }\"\n",
       "            onmouseover=\"document.getElementById('_fb_yqlifpykdvoqffddvwvx_ind_7').style.opacity = 1; document.getElementById('_fs_yqlifpykdvoqffddvwvx_ind_7').style.opacity = 1;\"\n",
       "            onmouseout=\"document.getElementById('_fb_yqlifpykdvoqffddvwvx_ind_7').style.opacity = 0; document.getElementById('_fs_yqlifpykdvoqffddvwvx_ind_7').style.opacity = 0;\"\n",
       "        >overflowing </div></div><div style='display: inline; text-align: center;'\n",
       "    ><div style='display: none; color: #999; padding-top: 0px; font-size: 12px;'>0.003</div\n",
       "        ><div id='_tp_yqlifpykdvoqffddvwvx_ind_8'\n",
       "            style='display: inline; background: rgba(255.0, 195.0, 0.0, 0.030421865715983164); border-radius: 3px; padding: 0px'\n",
       "            onclick=\"\n",
       "            if (this.previousSibling.style.display == 'none') {\n",
       "                this.previousSibling.style.display = 'block';\n",
       "                this.parentNode.style.display = 'inline-block';\n",
       "            } else {\n",
       "                this.previousSibling.style.display = 'none';\n",
       "                this.parentNode.style.display = 'inline';\n",
       "            }\"\n",
       "            onmouseover=\"document.getElementById('_fb_yqlifpykdvoqffddvwvx_ind_8').style.opacity = 1; document.getElementById('_fs_yqlifpykdvoqffddvwvx_ind_8').style.opacity = 1;\"\n",
       "            onmouseout=\"document.getElementById('_fb_yqlifpykdvoqffddvwvx_ind_8').style.opacity = 0; document.getElementById('_fs_yqlifpykdvoqffddvwvx_ind_8').style.opacity = 0;\"\n",
       "        >and </div></div><div style='display: inline; text-align: center;'\n",
       "    ><div style='display: none; color: #999; padding-top: 0px; font-size: 12px;'>0.019 / 3</div\n",
       "        ><div id='_tp_yqlifpykdvoqffddvwvx_ind_9'\n",
       "            style='display: inline; background: rgba(255.0, 195.0, 0.0, 0.1880768469003763); border-radius: 3px; padding: 0px'\n",
       "            onclick=\"\n",
       "            if (this.previousSibling.style.display == 'none') {\n",
       "                this.previousSibling.style.display = 'block';\n",
       "                this.parentNode.style.display = 'inline-block';\n",
       "            } else {\n",
       "                this.previousSibling.style.display = 'none';\n",
       "                this.parentNode.style.display = 'inline';\n",
       "            }\"\n",
       "            onmouseover=\"document.getElementById('_fb_yqlifpykdvoqffddvwvx_ind_9').style.opacity = 1; document.getElementById('_fs_yqlifpykdvoqffddvwvx_ind_9').style.opacity = 1;\"\n",
       "            onmouseout=\"document.getElementById('_fb_yqlifpykdvoqffddvwvx_ind_9').style.opacity = 0; document.getElementById('_fs_yqlifpykdvoqffddvwvx_ind_9').style.opacity = 0;\"\n",
       "        >the mother is </div></div><div style='display: inline; text-align: center;'\n",
       "    ><div style='display: none; color: #999; padding-top: 0px; font-size: 12px;'>-0.102 / 3</div\n",
       "        ><div id='_tp_yqlifpykdvoqffddvwvx_ind_10'\n",
       "            style='display: inline; background: rgba(230.0, 242.0, 244.0, 1.0); border-radius: 3px; padding: 0px'\n",
       "            onclick=\"\n",
       "            if (this.previousSibling.style.display == 'none') {\n",
       "                this.previousSibling.style.display = 'block';\n",
       "                this.parentNode.style.display = 'inline-block';\n",
       "            } else {\n",
       "                this.previousSibling.style.display = 'none';\n",
       "                this.parentNode.style.display = 'inline';\n",
       "            }\"\n",
       "            onmouseover=\"document.getElementById('_fb_yqlifpykdvoqffddvwvx_ind_10').style.opacity = 1; document.getElementById('_fs_yqlifpykdvoqffddvwvx_ind_10').style.opacity = 1;\"\n",
       "            onmouseout=\"document.getElementById('_fb_yqlifpykdvoqffddvwvx_ind_10').style.opacity = 0; document.getElementById('_fs_yqlifpykdvoqffddvwvx_ind_10').style.opacity = 0;\"\n",
       "        >drying the </div></div><div style='display: inline; text-align: center;'\n",
       "    ><div style='display: none; color: #999; padding-top: 0px; font-size: 12px;'>-0.094 / 2</div\n",
       "        ><div id='_tp_yqlifpykdvoqffddvwvx_ind_11'\n",
       "            style='display: inline; background: rgba(230.0, 242.0, 244.0, 0.9290552584670232); border-radius: 3px; padding: 0px'\n",
       "            onclick=\"\n",
       "            if (this.previousSibling.style.display == 'none') {\n",
       "                this.previousSibling.style.display = 'block';\n",
       "                this.parentNode.style.display = 'inline-block';\n",
       "            } else {\n",
       "                this.previousSibling.style.display = 'none';\n",
       "                this.parentNode.style.display = 'inline';\n",
       "            }\"\n",
       "            onmouseover=\"document.getElementById('_fb_yqlifpykdvoqffddvwvx_ind_11').style.opacity = 1; document.getElementById('_fs_yqlifpykdvoqffddvwvx_ind_11').style.opacity = 1;\"\n",
       "            onmouseout=\"document.getElementById('_fb_yqlifpykdvoqffddvwvx_ind_11').style.opacity = 0; document.getElementById('_fs_yqlifpykdvoqffddvwvx_ind_11').style.opacity = 0;\"\n",
       "        >dishes </div></div><div style='display: inline; text-align: center;'\n",
       "    ><div style='display: none; color: #999; padding-top: 0px; font-size: 12px;'>0.002</div\n",
       "        ><div id='_tp_yqlifpykdvoqffddvwvx_ind_12'\n",
       "            style='display: inline; background: rgba(255.0, 195.0, 0.0, 0.00677361853832443); border-radius: 3px; padding: 0px'\n",
       "            onclick=\"\n",
       "            if (this.previousSibling.style.display == 'none') {\n",
       "                this.previousSibling.style.display = 'block';\n",
       "                this.parentNode.style.display = 'inline-block';\n",
       "            } else {\n",
       "                this.previousSibling.style.display = 'none';\n",
       "                this.parentNode.style.display = 'inline';\n",
       "            }\"\n",
       "            onmouseover=\"document.getElementById('_fb_yqlifpykdvoqffddvwvx_ind_12').style.opacity = 1; document.getElementById('_fs_yqlifpykdvoqffddvwvx_ind_12').style.opacity = 1;\"\n",
       "            onmouseout=\"document.getElementById('_fb_yqlifpykdvoqffddvwvx_ind_12').style.opacity = 0; document.getElementById('_fs_yqlifpykdvoqffddvwvx_ind_12').style.opacity = 0;\"\n",
       "        >and </div></div><div style='display: inline; text-align: center;'\n",
       "    ><div style='display: none; color: #999; padding-top: 0px; font-size: 12px;'>0.035 / 5</div\n",
       "        ><div id='_tp_yqlifpykdvoqffddvwvx_ind_13'\n",
       "            style='display: inline; background: rgba(255.0, 195.0, 0.0, 0.3457318280847692); border-radius: 3px; padding: 0px'\n",
       "            onclick=\"\n",
       "            if (this.previousSibling.style.display == 'none') {\n",
       "                this.previousSibling.style.display = 'block';\n",
       "                this.parentNode.style.display = 'inline-block';\n",
       "            } else {\n",
       "                this.previousSibling.style.display = 'none';\n",
       "                this.parentNode.style.display = 'inline';\n",
       "            }\"\n",
       "            onmouseover=\"document.getElementById('_fb_yqlifpykdvoqffddvwvx_ind_13').style.opacity = 1; document.getElementById('_fs_yqlifpykdvoqffddvwvx_ind_13').style.opacity = 1;\"\n",
       "            onmouseout=\"document.getElementById('_fb_yqlifpykdvoqffddvwvx_ind_13').style.opacity = 0; document.getElementById('_fs_yqlifpykdvoqffddvwvx_ind_13').style.opacity = 0;\"\n",
       "        >I see the backyard </div></div><div style='display: inline; text-align: center;'\n",
       "    ><div style='display: none; color: #999; padding-top: 0px; font-size: 12px;'>-0.007 / 4</div\n",
       "        ><div id='_tp_yqlifpykdvoqffddvwvx_ind_14'\n",
       "            style='display: inline; background: rgba(230.0, 242.0, 244.0, 0.06195286195286191); border-radius: 3px; padding: 0px'\n",
       "            onclick=\"\n",
       "            if (this.previousSibling.style.display == 'none') {\n",
       "                this.previousSibling.style.display = 'block';\n",
       "                this.parentNode.style.display = 'inline-block';\n",
       "            } else {\n",
       "                this.previousSibling.style.display = 'none';\n",
       "                this.parentNode.style.display = 'inline';\n",
       "            }\"\n",
       "            onmouseover=\"document.getElementById('_fb_yqlifpykdvoqffddvwvx_ind_14').style.opacity = 1; document.getElementById('_fs_yqlifpykdvoqffddvwvx_ind_14').style.opacity = 1;\"\n",
       "            onmouseout=\"document.getElementById('_fb_yqlifpykdvoqffddvwvx_ind_14').style.opacity = 0; document.getElementById('_fs_yqlifpykdvoqffddvwvx_ind_14').style.opacity = 0;\"\n",
       "        >through the window and </div></div><div style='display: inline; text-align: center;'\n",
       "    ><div style='display: none; color: #999; padding-top: 0px; font-size: 12px;'>-0.018 / 2</div\n",
       "        ><div id='_tp_yqlifpykdvoqffddvwvx_ind_15'\n",
       "            style='display: inline; background: rgba(230.0, 242.0, 244.0, 0.1723113487819369); border-radius: 3px; padding: 0px'\n",
       "            onclick=\"\n",
       "            if (this.previousSibling.style.display == 'none') {\n",
       "                this.previousSibling.style.display = 'block';\n",
       "                this.parentNode.style.display = 'inline-block';\n",
       "            } else {\n",
       "                this.previousSibling.style.display = 'none';\n",
       "                this.parentNode.style.display = 'inline';\n",
       "            }\"\n",
       "            onmouseover=\"document.getElementById('_fb_yqlifpykdvoqffddvwvx_ind_15').style.opacity = 1; document.getElementById('_fs_yqlifpykdvoqffddvwvx_ind_15').style.opacity = 1;\"\n",
       "            onmouseout=\"document.getElementById('_fb_yqlifpykdvoqffddvwvx_ind_15').style.opacity = 0; document.getElementById('_fs_yqlifpykdvoqffddvwvx_ind_15').style.opacity = 0;\"\n",
       "        >what else</div></div><div style='display: inline; text-align: center;'\n",
       "    ><div style='display: none; color: #999; padding-top: 0px; font-size: 12px;'>0.0</div\n",
       "        ><div id='_tp_yqlifpykdvoqffddvwvx_ind_16'\n",
       "            style='display: inline; background: rgba(252.25490196078462, 200.16078431372495, 26.79215686274231, 0.0); border-radius: 3px; padding: 0px'\n",
       "            onclick=\"\n",
       "            if (this.previousSibling.style.display == 'none') {\n",
       "                this.previousSibling.style.display = 'block';\n",
       "                this.parentNode.style.display = 'inline-block';\n",
       "            } else {\n",
       "                this.previousSibling.style.display = 'none';\n",
       "                this.parentNode.style.display = 'inline';\n",
       "            }\"\n",
       "            onmouseover=\"document.getElementById('_fb_yqlifpykdvoqffddvwvx_ind_16').style.opacity = 1; document.getElementById('_fs_yqlifpykdvoqffddvwvx_ind_16').style.opacity = 1;\"\n",
       "            onmouseout=\"document.getElementById('_fb_yqlifpykdvoqffddvwvx_ind_16').style.opacity = 0; document.getElementById('_fs_yqlifpykdvoqffddvwvx_ind_16').style.opacity = 0;\"\n",
       "        >? </div></div><div style='display: inline; text-align: center;'\n",
       "    ><div style='display: none; color: #999; padding-top: 0px; font-size: 12px;'>-0.023 / 3</div\n",
       "        ><div id='_tp_yqlifpykdvoqffddvwvx_ind_17'\n",
       "            style='display: inline; background: rgba(230.0, 242.0, 244.0, 0.21960784313725487); border-radius: 3px; padding: 0px'\n",
       "            onclick=\"\n",
       "            if (this.previousSibling.style.display == 'none') {\n",
       "                this.previousSibling.style.display = 'block';\n",
       "                this.parentNode.style.display = 'inline-block';\n",
       "            } else {\n",
       "                this.previousSibling.style.display = 'none';\n",
       "                this.parentNode.style.display = 'inline';\n",
       "            }\"\n",
       "            onmouseover=\"document.getElementById('_fb_yqlifpykdvoqffddvwvx_ind_17').style.opacity = 1; document.getElementById('_fs_yqlifpykdvoqffddvwvx_ind_17').style.opacity = 1;\"\n",
       "            onmouseout=\"document.getElementById('_fb_yqlifpykdvoqffddvwvx_ind_17').style.opacity = 0; document.getElementById('_fs_yqlifpykdvoqffddvwvx_ind_17').style.opacity = 0;\"\n",
       "        >The cookie jar</div></div><div style='display: inline; text-align: center;'\n",
       "    ><div style='display: none; color: #999; padding-top: 0px; font-size: 12px;'>0.0</div\n",
       "        ><div id='_tp_yqlifpykdvoqffddvwvx_ind_18'\n",
       "            style='display: inline; background: rgba(252.25490196078462, 200.16078431372495, 26.79215686274231, 0.0); border-radius: 3px; padding: 0px'\n",
       "            onclick=\"\n",
       "            if (this.previousSibling.style.display == 'none') {\n",
       "                this.previousSibling.style.display = 'block';\n",
       "                this.parentNode.style.display = 'inline-block';\n",
       "            } else {\n",
       "                this.previousSibling.style.display = 'none';\n",
       "                this.parentNode.style.display = 'inline';\n",
       "            }\"\n",
       "            onmouseover=\"document.getElementById('_fb_yqlifpykdvoqffddvwvx_ind_18').style.opacity = 1; document.getElementById('_fs_yqlifpykdvoqffddvwvx_ind_18').style.opacity = 1;\"\n",
       "            onmouseout=\"document.getElementById('_fb_yqlifpykdvoqffddvwvx_ind_18').style.opacity = 0; document.getElementById('_fs_yqlifpykdvoqffddvwvx_ind_18').style.opacity = 0;\"\n",
       "        >, </div></div><div style='display: inline; text-align: center;'\n",
       "    ><div style='display: none; color: #999; padding-top: 0px; font-size: 12px;'>-0.007 / 2</div\n",
       "        ><div id='_tp_yqlifpykdvoqffddvwvx_ind_19'\n",
       "            style='display: inline; background: rgba(230.0, 242.0, 244.0, 0.06195286195286191); border-radius: 3px; padding: 0px'\n",
       "            onclick=\"\n",
       "            if (this.previousSibling.style.display == 'none') {\n",
       "                this.previousSibling.style.display = 'block';\n",
       "                this.parentNode.style.display = 'inline-block';\n",
       "            } else {\n",
       "                this.previousSibling.style.display = 'none';\n",
       "                this.parentNode.style.display = 'inline';\n",
       "            }\"\n",
       "            onmouseover=\"document.getElementById('_fb_yqlifpykdvoqffddvwvx_ind_19').style.opacity = 1; document.getElementById('_fs_yqlifpykdvoqffddvwvx_ind_19').style.opacity = 1;\"\n",
       "            onmouseout=\"document.getElementById('_fb_yqlifpykdvoqffddvwvx_ind_19').style.opacity = 0; document.getElementById('_fs_yqlifpykdvoqffddvwvx_ind_19').style.opacity = 0;\"\n",
       "        >boy and </div></div><div style='display: inline; text-align: center;'\n",
       "    ><div style='display: none; color: #999; padding-top: 0px; font-size: 12px;'>-0.017 / 3</div\n",
       "        ><div id='_tp_yqlifpykdvoqffddvwvx_ind_20'\n",
       "            style='display: inline; background: rgba(230.0, 242.0, 244.0, 0.16442859972271748); border-radius: 3px; padding: 0px'\n",
       "            onclick=\"\n",
       "            if (this.previousSibling.style.display == 'none') {\n",
       "                this.previousSibling.style.display = 'block';\n",
       "                this.parentNode.style.display = 'inline-block';\n",
       "            } else {\n",
       "                this.previousSibling.style.display = 'none';\n",
       "                this.parentNode.style.display = 'inline';\n",
       "            }\"\n",
       "            onmouseover=\"document.getElementById('_fb_yqlifpykdvoqffddvwvx_ind_20').style.opacity = 1; document.getElementById('_fs_yqlifpykdvoqffddvwvx_ind_20').style.opacity = 1;\"\n",
       "            onmouseout=\"document.getElementById('_fb_yqlifpykdvoqffddvwvx_ind_20').style.opacity = 0; document.getElementById('_fs_yqlifpykdvoqffddvwvx_ind_20').style.opacity = 0;\"\n",
       "        >a girl and </div></div><div style='display: inline; text-align: center;'\n",
       "    ><div style='display: none; color: #999; padding-top: 0px; font-size: 12px;'>0.035 / 3</div\n",
       "        ><div id='_tp_yqlifpykdvoqffddvwvx_ind_21'\n",
       "            style='display: inline; background: rgba(255.0, 195.0, 0.0, 0.33784907902554967); border-radius: 3px; padding: 0px'\n",
       "            onclick=\"\n",
       "            if (this.previousSibling.style.display == 'none') {\n",
       "                this.previousSibling.style.display = 'block';\n",
       "                this.parentNode.style.display = 'inline-block';\n",
       "            } else {\n",
       "                this.previousSibling.style.display = 'none';\n",
       "                this.parentNode.style.display = 'inline';\n",
       "            }\"\n",
       "            onmouseover=\"document.getElementById('_fb_yqlifpykdvoqffddvwvx_ind_21').style.opacity = 1; document.getElementById('_fs_yqlifpykdvoqffddvwvx_ind_21').style.opacity = 1;\"\n",
       "            onmouseout=\"document.getElementById('_fb_yqlifpykdvoqffddvwvx_ind_21').style.opacity = 0; document.getElementById('_fs_yqlifpykdvoqffddvwvx_ind_21').style.opacity = 0;\"\n",
       "        >it's </div></div><div style='display: inline; text-align: center;'\n",
       "    ><div style='display: none; color: #999; padding-top: 0px; font-size: 12px;'>0.062 / 5</div\n",
       "        ><div id='_tp_yqlifpykdvoqffddvwvx_ind_22'\n",
       "            style='display: inline; background: rgba(255.0, 195.0, 0.0, 0.6137452960982372); border-radius: 3px; padding: 0px'\n",
       "            onclick=\"\n",
       "            if (this.previousSibling.style.display == 'none') {\n",
       "                this.previousSibling.style.display = 'block';\n",
       "                this.parentNode.style.display = 'inline-block';\n",
       "            } else {\n",
       "                this.previousSibling.style.display = 'none';\n",
       "                this.parentNode.style.display = 'inline';\n",
       "            }\"\n",
       "            onmouseover=\"document.getElementById('_fb_yqlifpykdvoqffddvwvx_ind_22').style.opacity = 1; document.getElementById('_fs_yqlifpykdvoqffddvwvx_ind_22').style.opacity = 1;\"\n",
       "            onmouseout=\"document.getElementById('_fb_yqlifpykdvoqffddvwvx_ind_22').style.opacity = 0; document.getElementById('_fs_yqlifpykdvoqffddvwvx_ind_22').style.opacity = 0;\"\n",
       "        >on the top shelf </div></div><div style='display: inline; text-align: center;'\n",
       "    ><div style='display: none; color: #999; padding-top: 0px; font-size: 12px;'>0.026</div\n",
       "        ><div id='_tp_yqlifpykdvoqffddvwvx_ind_23'\n",
       "            style='display: inline; background: rgba(255.0, 195.0, 0.0, 0.2511388393741335); border-radius: 3px; padding: 0px'\n",
       "            onclick=\"\n",
       "            if (this.previousSibling.style.display == 'none') {\n",
       "                this.previousSibling.style.display = 'block';\n",
       "                this.parentNode.style.display = 'inline-block';\n",
       "            } else {\n",
       "                this.previousSibling.style.display = 'none';\n",
       "                this.parentNode.style.display = 'inline';\n",
       "            }\"\n",
       "            onmouseover=\"document.getElementById('_fb_yqlifpykdvoqffddvwvx_ind_23').style.opacity = 1; document.getElementById('_fs_yqlifpykdvoqffddvwvx_ind_23').style.opacity = 1;\"\n",
       "            onmouseout=\"document.getElementById('_fb_yqlifpykdvoqffddvwvx_ind_23').style.opacity = 0; document.getElementById('_fs_yqlifpykdvoqffddvwvx_ind_23').style.opacity = 0;\"\n",
       "        >and </div></div><div style='display: inline; text-align: center;'\n",
       "    ><div style='display: none; color: #999; padding-top: 0px; font-size: 12px;'>0.075 / 5</div\n",
       "        ><div id='_tp_yqlifpykdvoqffddvwvx_ind_24'\n",
       "            style='display: inline; background: rgba(255.0, 195.0, 0.0, 0.7398692810457518); border-radius: 3px; padding: 0px'\n",
       "            onclick=\"\n",
       "            if (this.previousSibling.style.display == 'none') {\n",
       "                this.previousSibling.style.display = 'block';\n",
       "                this.parentNode.style.display = 'inline-block';\n",
       "            } else {\n",
       "                this.previousSibling.style.display = 'none';\n",
       "                this.parentNode.style.display = 'inline';\n",
       "            }\"\n",
       "            onmouseover=\"document.getElementById('_fb_yqlifpykdvoqffddvwvx_ind_24').style.opacity = 1; document.getElementById('_fs_yqlifpykdvoqffddvwvx_ind_24').style.opacity = 1;\"\n",
       "            onmouseout=\"document.getElementById('_fb_yqlifpykdvoqffddvwvx_ind_24').style.opacity = 0; document.getElementById('_fs_yqlifpykdvoqffddvwvx_ind_24').style.opacity = 0;\"\n",
       "        >he's going to </div></div><div style='display: inline; text-align: center;'\n",
       "    ><div style='display: none; color: #999; padding-top: 0px; font-size: 12px;'>0.04 / 3</div\n",
       "        ><div id='_tp_yqlifpykdvoqffddvwvx_ind_25'\n",
       "            style='display: inline; background: rgba(255.0, 195.0, 0.0, 0.3851455733808676); border-radius: 3px; padding: 0px'\n",
       "            onclick=\"\n",
       "            if (this.previousSibling.style.display == 'none') {\n",
       "                this.previousSibling.style.display = 'block';\n",
       "                this.parentNode.style.display = 'inline-block';\n",
       "            } else {\n",
       "                this.previousSibling.style.display = 'none';\n",
       "                this.parentNode.style.display = 'inline';\n",
       "            }\"\n",
       "            onmouseover=\"document.getElementById('_fb_yqlifpykdvoqffddvwvx_ind_25').style.opacity = 1; document.getElementById('_fs_yqlifpykdvoqffddvwvx_ind_25').style.opacity = 1;\"\n",
       "            onmouseout=\"document.getElementById('_fb_yqlifpykdvoqffddvwvx_ind_25').style.opacity = 0; document.getElementById('_fs_yqlifpykdvoqffddvwvx_ind_25').style.opacity = 0;\"\n",
       "        >fall off that </div></div><div style='display: inline; text-align: center;'\n",
       "    ><div style='display: none; color: #999; padding-top: 0px; font-size: 12px;'>0.034 / 2</div\n",
       "        ><div id='_tp_yqlifpykdvoqffddvwvx_ind_26'\n",
       "            style='display: inline; background: rgba(255.0, 195.0, 0.0, 0.33784907902554967); border-radius: 3px; padding: 0px'\n",
       "            onclick=\"\n",
       "            if (this.previousSibling.style.display == 'none') {\n",
       "                this.previousSibling.style.display = 'block';\n",
       "                this.parentNode.style.display = 'inline-block';\n",
       "            } else {\n",
       "                this.previousSibling.style.display = 'none';\n",
       "                this.parentNode.style.display = 'inline';\n",
       "            }\"\n",
       "            onmouseover=\"document.getElementById('_fb_yqlifpykdvoqffddvwvx_ind_26').style.opacity = 1; document.getElementById('_fs_yqlifpykdvoqffddvwvx_ind_26').style.opacity = 1;\"\n",
       "            onmouseout=\"document.getElementById('_fb_yqlifpykdvoqffddvwvx_ind_26').style.opacity = 0; document.getElementById('_fs_yqlifpykdvoqffddvwvx_ind_26').style.opacity = 0;\"\n",
       "        >stool </div></div><div style='display: inline; text-align: center;'\n",
       "    ><div style='display: none; color: #999; padding-top: 0px; font-size: 12px;'>0.009</div\n",
       "        ><div id='_tp_yqlifpykdvoqffddvwvx_ind_27'\n",
       "            style='display: inline; background: rgba(255.0, 195.0, 0.0, 0.07771836007130124); border-radius: 3px; padding: 0px'\n",
       "            onclick=\"\n",
       "            if (this.previousSibling.style.display == 'none') {\n",
       "                this.previousSibling.style.display = 'block';\n",
       "                this.parentNode.style.display = 'inline-block';\n",
       "            } else {\n",
       "                this.previousSibling.style.display = 'none';\n",
       "                this.parentNode.style.display = 'inline';\n",
       "            }\"\n",
       "            onmouseover=\"document.getElementById('_fb_yqlifpykdvoqffddvwvx_ind_27').style.opacity = 1; document.getElementById('_fs_yqlifpykdvoqffddvwvx_ind_27').style.opacity = 1;\"\n",
       "            onmouseout=\"document.getElementById('_fb_yqlifpykdvoqffddvwvx_ind_27').style.opacity = 0; document.getElementById('_fs_yqlifpykdvoqffddvwvx_ind_27').style.opacity = 0;\"\n",
       "        >and </div></div><div style='display: inline; text-align: center;'\n",
       "    ><div style='display: none; color: #999; padding-top: 0px; font-size: 12px;'>0.023 / 2</div\n",
       "        ><div id='_tp_yqlifpykdvoqffddvwvx_ind_28'\n",
       "            style='display: inline; background: rgba(255.0, 195.0, 0.0, 0.219607843137255); border-radius: 3px; padding: 0px'\n",
       "            onclick=\"\n",
       "            if (this.previousSibling.style.display == 'none') {\n",
       "                this.previousSibling.style.display = 'block';\n",
       "                this.parentNode.style.display = 'inline-block';\n",
       "            } else {\n",
       "                this.previousSibling.style.display = 'none';\n",
       "                this.parentNode.style.display = 'inline';\n",
       "            }\"\n",
       "            onmouseover=\"document.getElementById('_fb_yqlifpykdvoqffddvwvx_ind_28').style.opacity = 1; document.getElementById('_fs_yqlifpykdvoqffddvwvx_ind_28').style.opacity = 1;\"\n",
       "            onmouseout=\"document.getElementById('_fb_yqlifpykdvoqffddvwvx_ind_28').style.opacity = 0; document.getElementById('_fs_yqlifpykdvoqffddvwvx_ind_28').style.opacity = 0;\"\n",
       "        >what else</div></div><div style='display: inline; text-align: center;'\n",
       "    ><div style='display: none; color: #999; padding-top: 0px; font-size: 12px;'>0.0</div\n",
       "        ><div id='_tp_yqlifpykdvoqffddvwvx_ind_29'\n",
       "            style='display: inline; background: rgba(252.25490196078462, 200.16078431372495, 26.79215686274231, 0.0); border-radius: 3px; padding: 0px'\n",
       "            onclick=\"\n",
       "            if (this.previousSibling.style.display == 'none') {\n",
       "                this.previousSibling.style.display = 'block';\n",
       "                this.parentNode.style.display = 'inline-block';\n",
       "            } else {\n",
       "                this.previousSibling.style.display = 'none';\n",
       "                this.parentNode.style.display = 'inline';\n",
       "            }\"\n",
       "            onmouseover=\"document.getElementById('_fb_yqlifpykdvoqffddvwvx_ind_29').style.opacity = 1; document.getElementById('_fs_yqlifpykdvoqffddvwvx_ind_29').style.opacity = 1;\"\n",
       "            onmouseout=\"document.getElementById('_fb_yqlifpykdvoqffddvwvx_ind_29').style.opacity = 0; document.getElementById('_fs_yqlifpykdvoqffddvwvx_ind_29').style.opacity = 0;\"\n",
       "        >? </div></div><div style='display: inline; text-align: center;'\n",
       "    ><div style='display: none; color: #999; padding-top: 0px; font-size: 12px;'>0.043 / 4</div\n",
       "        ><div id='_tp_yqlifpykdvoqffddvwvx_ind_30'\n",
       "            style='display: inline; background: rgba(255.0, 195.0, 0.0, 0.41667656961774624); border-radius: 3px; padding: 0px'\n",
       "            onclick=\"\n",
       "            if (this.previousSibling.style.display == 'none') {\n",
       "                this.previousSibling.style.display = 'block';\n",
       "                this.parentNode.style.display = 'inline-block';\n",
       "            } else {\n",
       "                this.previousSibling.style.display = 'none';\n",
       "                this.parentNode.style.display = 'inline';\n",
       "            }\"\n",
       "            onmouseover=\"document.getElementById('_fb_yqlifpykdvoqffddvwvx_ind_30').style.opacity = 1; document.getElementById('_fs_yqlifpykdvoqffddvwvx_ind_30').style.opacity = 1;\"\n",
       "            onmouseout=\"document.getElementById('_fb_yqlifpykdvoqffddvwvx_ind_30').style.opacity = 0; document.getElementById('_fs_yqlifpykdvoqffddvwvx_ind_30').style.opacity = 0;\"\n",
       "        >The mom's </div></div><div style='display: inline; text-align: center;'\n",
       "    ><div style='display: none; color: #999; padding-top: 0px; font-size: 12px;'>0.048 / 4</div\n",
       "        ><div id='_tp_yqlifpykdvoqffddvwvx_ind_31'\n",
       "            style='display: inline; background: rgba(255.0, 195.0, 0.0, 0.4718558130322837); border-radius: 3px; padding: 0px'\n",
       "            onclick=\"\n",
       "            if (this.previousSibling.style.display == 'none') {\n",
       "                this.previousSibling.style.display = 'block';\n",
       "                this.parentNode.style.display = 'inline-block';\n",
       "            } else {\n",
       "                this.previousSibling.style.display = 'none';\n",
       "                this.parentNode.style.display = 'inline';\n",
       "            }\"\n",
       "            onmouseover=\"document.getElementById('_fb_yqlifpykdvoqffddvwvx_ind_31').style.opacity = 1; document.getElementById('_fs_yqlifpykdvoqffddvwvx_ind_31').style.opacity = 1;\"\n",
       "            onmouseout=\"document.getElementById('_fb_yqlifpykdvoqffddvwvx_ind_31').style.opacity = 0; document.getElementById('_fs_yqlifpykdvoqffddvwvx_ind_31').style.opacity = 0;\"\n",
       "        >going to slip on </div></div><div style='display: inline; text-align: center;'\n",
       "    ><div style='display: none; color: #999; padding-top: 0px; font-size: 12px;'>0.05 / 4</div\n",
       "        ><div id='_tp_yqlifpykdvoqffddvwvx_ind_32'\n",
       "            style='display: inline; background: rgba(255.0, 195.0, 0.0, 0.49550406020994264); border-radius: 3px; padding: 0px'\n",
       "            onclick=\"\n",
       "            if (this.previousSibling.style.display == 'none') {\n",
       "                this.previousSibling.style.display = 'block';\n",
       "                this.parentNode.style.display = 'inline-block';\n",
       "            } else {\n",
       "                this.previousSibling.style.display = 'none';\n",
       "                this.parentNode.style.display = 'inline';\n",
       "            }\"\n",
       "            onmouseover=\"document.getElementById('_fb_yqlifpykdvoqffddvwvx_ind_32').style.opacity = 1; document.getElementById('_fs_yqlifpykdvoqffddvwvx_ind_32').style.opacity = 1;\"\n",
       "            onmouseout=\"document.getElementById('_fb_yqlifpykdvoqffddvwvx_ind_32').style.opacity = 0; document.getElementById('_fs_yqlifpykdvoqffddvwvx_ind_32').style.opacity = 0;\"\n",
       "        >the water if she </div></div><div style='display: inline; text-align: center;'\n",
       "    ><div style='display: none; color: #999; padding-top: 0px; font-size: 12px;'>0.032 / 3</div\n",
       "        ><div id='_tp_yqlifpykdvoqffddvwvx_ind_33'\n",
       "            style='display: inline; background: rgba(255.0, 195.0, 0.0, 0.306318082788671); border-radius: 3px; padding: 0px'\n",
       "            onclick=\"\n",
       "            if (this.previousSibling.style.display == 'none') {\n",
       "                this.previousSibling.style.display = 'block';\n",
       "                this.parentNode.style.display = 'inline-block';\n",
       "            } else {\n",
       "                this.previousSibling.style.display = 'none';\n",
       "                this.parentNode.style.display = 'inline';\n",
       "            }\"\n",
       "            onmouseover=\"document.getElementById('_fb_yqlifpykdvoqffddvwvx_ind_33').style.opacity = 1; document.getElementById('_fs_yqlifpykdvoqffddvwvx_ind_33').style.opacity = 1;\"\n",
       "            onmouseout=\"document.getElementById('_fb_yqlifpykdvoqffddvwvx_ind_33').style.opacity = 0; document.getElementById('_fs_yqlifpykdvoqffddvwvx_ind_33').style.opacity = 0;\"\n",
       "        >doesn't </div></div><div style='display: inline; text-align: center;'\n",
       "    ><div style='display: none; color: #999; padding-top: 0px; font-size: 12px;'>0.021 / 3</div\n",
       "        ><div id='_tp_yqlifpykdvoqffddvwvx_ind_34'\n",
       "            style='display: inline; background: rgba(255.0, 195.0, 0.0, 0.20384234501881549); border-radius: 3px; padding: 0px'\n",
       "            onclick=\"\n",
       "            if (this.previousSibling.style.display == 'none') {\n",
       "                this.previousSibling.style.display = 'block';\n",
       "                this.parentNode.style.display = 'inline-block';\n",
       "            } else {\n",
       "                this.previousSibling.style.display = 'none';\n",
       "                this.parentNode.style.display = 'inline';\n",
       "            }\"\n",
       "            onmouseover=\"document.getElementById('_fb_yqlifpykdvoqffddvwvx_ind_34').style.opacity = 1; document.getElementById('_fs_yqlifpykdvoqffddvwvx_ind_34').style.opacity = 1;\"\n",
       "            onmouseout=\"document.getElementById('_fb_yqlifpykdvoqffddvwvx_ind_34').style.opacity = 0; document.getElementById('_fs_yqlifpykdvoqffddvwvx_ind_34').style.opacity = 0;\"\n",
       "        >be careful</div></div><div style='display: inline; text-align: center;'\n",
       "    ><div style='display: none; color: #999; padding-top: 0px; font-size: 12px;'>0.0</div\n",
       "        ><div id='_tp_yqlifpykdvoqffddvwvx_ind_35'\n",
       "            style='display: inline; background: rgba(252.25490196078462, 200.16078431372495, 26.79215686274231, 0.0); border-radius: 3px; padding: 0px'\n",
       "            onclick=\"\n",
       "            if (this.previousSibling.style.display == 'none') {\n",
       "                this.previousSibling.style.display = 'block';\n",
       "                this.parentNode.style.display = 'inline-block';\n",
       "            } else {\n",
       "                this.previousSibling.style.display = 'none';\n",
       "                this.parentNode.style.display = 'inline';\n",
       "            }\"\n",
       "            onmouseover=\"document.getElementById('_fb_yqlifpykdvoqffddvwvx_ind_35').style.opacity = 1; document.getElementById('_fs_yqlifpykdvoqffddvwvx_ind_35').style.opacity = 1;\"\n",
       "            onmouseout=\"document.getElementById('_fb_yqlifpykdvoqffddvwvx_ind_35').style.opacity = 0; document.getElementById('_fs_yqlifpykdvoqffddvwvx_ind_35').style.opacity = 0;\"\n",
       "        >. </div></div><div style='display: inline; text-align: center;'\n",
       "    ><div style='display: none; color: #999; padding-top: 0px; font-size: 12px;'>0.003 / 2</div\n",
       "        ><div id='_tp_yqlifpykdvoqffddvwvx_ind_36'\n",
       "            style='display: inline; background: rgba(255.0, 195.0, 0.0, 0.030421865715983164); border-radius: 3px; padding: 0px'\n",
       "            onclick=\"\n",
       "            if (this.previousSibling.style.display == 'none') {\n",
       "                this.previousSibling.style.display = 'block';\n",
       "                this.parentNode.style.display = 'inline-block';\n",
       "            } else {\n",
       "                this.previousSibling.style.display = 'none';\n",
       "                this.parentNode.style.display = 'inline';\n",
       "            }\"\n",
       "            onmouseover=\"document.getElementById('_fb_yqlifpykdvoqffddvwvx_ind_36').style.opacity = 1; document.getElementById('_fs_yqlifpykdvoqffddvwvx_ind_36').style.opacity = 1;\"\n",
       "            onmouseout=\"document.getElementById('_fb_yqlifpykdvoqffddvwvx_ind_36').style.opacity = 0; document.getElementById('_fs_yqlifpykdvoqffddvwvx_ind_36').style.opacity = 0;\"\n",
       "        >And what </div></div><div style='display: inline; text-align: center;'\n",
       "    ><div style='display: none; color: #999; padding-top: 0px; font-size: 12px;'>0.006 / 2</div\n",
       "        ><div id='_tp_yqlifpykdvoqffddvwvx_ind_37'\n",
       "            style='display: inline; background: rgba(255.0, 195.0, 0.0, 0.05407011289364243); border-radius: 3px; padding: 0px'\n",
       "            onclick=\"\n",
       "            if (this.previousSibling.style.display == 'none') {\n",
       "                this.previousSibling.style.display = 'block';\n",
       "                this.parentNode.style.display = 'inline-block';\n",
       "            } else {\n",
       "                this.previousSibling.style.display = 'none';\n",
       "                this.parentNode.style.display = 'inline';\n",
       "            }\"\n",
       "            onmouseover=\"document.getElementById('_fb_yqlifpykdvoqffddvwvx_ind_37').style.opacity = 1; document.getElementById('_fs_yqlifpykdvoqffddvwvx_ind_37').style.opacity = 1;\"\n",
       "            onmouseout=\"document.getElementById('_fb_yqlifpykdvoqffddvwvx_ind_37').style.opacity = 0; document.getElementById('_fs_yqlifpykdvoqffddvwvx_ind_37').style.opacity = 0;\"\n",
       "        >else do </div></div><div style='display: inline; text-align: center;'\n",
       "    ><div style='display: none; color: #999; padding-top: 0px; font-size: 12px;'>0.042 / 4</div\n",
       "        ><div id='_tp_yqlifpykdvoqffddvwvx_ind_38'\n",
       "            style='display: inline; background: rgba(255.0, 195.0, 0.0, 0.4087938205585263); border-radius: 3px; padding: 0px'\n",
       "            onclick=\"\n",
       "            if (this.previousSibling.style.display == 'none') {\n",
       "                this.previousSibling.style.display = 'block';\n",
       "                this.parentNode.style.display = 'inline-block';\n",
       "            } else {\n",
       "                this.previousSibling.style.display = 'none';\n",
       "                this.parentNode.style.display = 'inline';\n",
       "            }\"\n",
       "            onmouseover=\"document.getElementById('_fb_yqlifpykdvoqffddvwvx_ind_38').style.opacity = 1; document.getElementById('_fs_yqlifpykdvoqffddvwvx_ind_38').style.opacity = 1;\"\n",
       "            onmouseout=\"document.getElementById('_fb_yqlifpykdvoqffddvwvx_ind_38').style.opacity = 0; document.getElementById('_fs_yqlifpykdvoqffddvwvx_ind_38').style.opacity = 0;\"\n",
       "        >you want me to </div></div><div style='display: inline; text-align: center;'\n",
       "    ><div style='display: none; color: #999; padding-top: 0px; font-size: 12px;'>0.043 / 3</div\n",
       "        ><div id='_tp_yqlifpykdvoqffddvwvx_ind_39'\n",
       "            style='display: inline; background: rgba(255.0, 195.0, 0.0, 0.41667656961774624); border-radius: 3px; padding: 0px'\n",
       "            onclick=\"\n",
       "            if (this.previousSibling.style.display == 'none') {\n",
       "                this.previousSibling.style.display = 'block';\n",
       "                this.parentNode.style.display = 'inline-block';\n",
       "            } else {\n",
       "                this.previousSibling.style.display = 'none';\n",
       "                this.parentNode.style.display = 'inline';\n",
       "            }\"\n",
       "            onmouseover=\"document.getElementById('_fb_yqlifpykdvoqffddvwvx_ind_39').style.opacity = 1; document.getElementById('_fs_yqlifpykdvoqffddvwvx_ind_39').style.opacity = 1;\"\n",
       "            onmouseout=\"document.getElementById('_fb_yqlifpykdvoqffddvwvx_ind_39').style.opacity = 0; document.getElementById('_fs_yqlifpykdvoqffddvwvx_ind_39').style.opacity = 0;\"\n",
       "        >tell you? </div></div><div style='display: inline; text-align: center;'\n",
       "    ><div style='display: none; color: #999; padding-top: 0px; font-size: 12px;'>0.013 / 4</div\n",
       "        ><div id='_tp_yqlifpykdvoqffddvwvx_ind_40'\n",
       "            style='display: inline; background: rgba(255.0, 195.0, 0.0, 0.12501485442661908); border-radius: 3px; padding: 0px'\n",
       "            onclick=\"\n",
       "            if (this.previousSibling.style.display == 'none') {\n",
       "                this.previousSibling.style.display = 'block';\n",
       "                this.parentNode.style.display = 'inline-block';\n",
       "            } else {\n",
       "                this.previousSibling.style.display = 'none';\n",
       "                this.parentNode.style.display = 'inline';\n",
       "            }\"\n",
       "            onmouseover=\"document.getElementById('_fb_yqlifpykdvoqffddvwvx_ind_40').style.opacity = 1; document.getElementById('_fs_yqlifpykdvoqffddvwvx_ind_40').style.opacity = 1;\"\n",
       "            onmouseout=\"document.getElementById('_fb_yqlifpykdvoqffddvwvx_ind_40').style.opacity = 0; document.getElementById('_fs_yqlifpykdvoqffddvwvx_ind_40').style.opacity = 0;\"\n",
       "        >Do you want me </div></div><div style='display: inline; text-align: center;'\n",
       "    ><div style='display: none; color: #999; padding-top: 0px; font-size: 12px;'>0.014 / 4</div\n",
       "        ><div id='_tp_yqlifpykdvoqffddvwvx_ind_41'\n",
       "            style='display: inline; background: rgba(255.0, 195.0, 0.0, 0.13289760348583876); border-radius: 3px; padding: 0px'\n",
       "            onclick=\"\n",
       "            if (this.previousSibling.style.display == 'none') {\n",
       "                this.previousSibling.style.display = 'block';\n",
       "                this.parentNode.style.display = 'inline-block';\n",
       "            } else {\n",
       "                this.previousSibling.style.display = 'none';\n",
       "                this.parentNode.style.display = 'inline';\n",
       "            }\"\n",
       "            onmouseover=\"document.getElementById('_fb_yqlifpykdvoqffddvwvx_ind_41').style.opacity = 1; document.getElementById('_fs_yqlifpykdvoqffddvwvx_ind_41').style.opacity = 1;\"\n",
       "            onmouseout=\"document.getElementById('_fb_yqlifpykdvoqffddvwvx_ind_41').style.opacity = 0; document.getElementById('_fs_yqlifpykdvoqffddvwvx_ind_41').style.opacity = 0;\"\n",
       "        >to describe everything on </div></div><div style='display: inline; text-align: center;'\n",
       "    ><div style='display: none; color: #999; padding-top: 0px; font-size: 12px;'>0.015 / 4</div\n",
       "        ><div id='_tp_yqlifpykdvoqffddvwvx_ind_42'\n",
       "            style='display: inline; background: rgba(255.0, 195.0, 0.0, 0.14866310160427795); border-radius: 3px; padding: 0px'\n",
       "            onclick=\"\n",
       "            if (this.previousSibling.style.display == 'none') {\n",
       "                this.previousSibling.style.display = 'block';\n",
       "                this.parentNode.style.display = 'inline-block';\n",
       "            } else {\n",
       "                this.previousSibling.style.display = 'none';\n",
       "                this.parentNode.style.display = 'inline';\n",
       "            }\"\n",
       "            onmouseover=\"document.getElementById('_fb_yqlifpykdvoqffddvwvx_ind_42').style.opacity = 1; document.getElementById('_fs_yqlifpykdvoqffddvwvx_ind_42').style.opacity = 1;\"\n",
       "            onmouseout=\"document.getElementById('_fb_yqlifpykdvoqffddvwvx_ind_42').style.opacity = 0; document.getElementById('_fs_yqlifpykdvoqffddvwvx_ind_42').style.opacity = 0;\"\n",
       "        >that that I see</div></div><div style='display: inline; text-align: center;'\n",
       "    ><div style='display: none; color: #999; padding-top: 0px; font-size: 12px;'>0.0</div\n",
       "        ><div id='_tp_yqlifpykdvoqffddvwvx_ind_43'\n",
       "            style='display: inline; background: rgba(252.25490196078462, 200.16078431372495, 26.79215686274231, 0.0); border-radius: 3px; padding: 0px'\n",
       "            onclick=\"\n",
       "            if (this.previousSibling.style.display == 'none') {\n",
       "                this.previousSibling.style.display = 'block';\n",
       "                this.parentNode.style.display = 'inline-block';\n",
       "            } else {\n",
       "                this.previousSibling.style.display = 'none';\n",
       "                this.parentNode.style.display = 'inline';\n",
       "            }\"\n",
       "            onmouseover=\"document.getElementById('_fb_yqlifpykdvoqffddvwvx_ind_43').style.opacity = 1; document.getElementById('_fs_yqlifpykdvoqffddvwvx_ind_43').style.opacity = 1;\"\n",
       "            onmouseout=\"document.getElementById('_fb_yqlifpykdvoqffddvwvx_ind_43').style.opacity = 0; document.getElementById('_fs_yqlifpykdvoqffddvwvx_ind_43').style.opacity = 0;\"\n",
       "        >? </div></div><div style='display: inline; text-align: center;'\n",
       "    ><div style='display: none; color: #999; padding-top: 0px; font-size: 12px;'>0.027 / 2</div\n",
       "        ><div id='_tp_yqlifpykdvoqffddvwvx_ind_44'\n",
       "            style='display: inline; background: rgba(255.0, 195.0, 0.0, 0.2590215884333532); border-radius: 3px; padding: 0px'\n",
       "            onclick=\"\n",
       "            if (this.previousSibling.style.display == 'none') {\n",
       "                this.previousSibling.style.display = 'block';\n",
       "                this.parentNode.style.display = 'inline-block';\n",
       "            } else {\n",
       "                this.previousSibling.style.display = 'none';\n",
       "                this.parentNode.style.display = 'inline';\n",
       "            }\"\n",
       "            onmouseover=\"document.getElementById('_fb_yqlifpykdvoqffddvwvx_ind_44').style.opacity = 1; document.getElementById('_fs_yqlifpykdvoqffddvwvx_ind_44').style.opacity = 1;\"\n",
       "            onmouseout=\"document.getElementById('_fb_yqlifpykdvoqffddvwvx_ind_44').style.opacity = 0; document.getElementById('_fs_yqlifpykdvoqffddvwvx_ind_44').style.opacity = 0;\"\n",
       "        >Oh, </div></div><div style='display: inline; text-align: center;'\n",
       "    ><div style='display: none; color: #999; padding-top: 0px; font-size: 12px;'>0.021 / 5</div\n",
       "        ><div id='_tp_yqlifpykdvoqffddvwvx_ind_45'\n",
       "            style='display: inline; background: rgba(255.0, 195.0, 0.0, 0.2117250940780353); border-radius: 3px; padding: 0px'\n",
       "            onclick=\"\n",
       "            if (this.previousSibling.style.display == 'none') {\n",
       "                this.previousSibling.style.display = 'block';\n",
       "                this.parentNode.style.display = 'inline-block';\n",
       "            } else {\n",
       "                this.previousSibling.style.display = 'none';\n",
       "                this.parentNode.style.display = 'inline';\n",
       "            }\"\n",
       "            onmouseover=\"document.getElementById('_fb_yqlifpykdvoqffddvwvx_ind_45').style.opacity = 1; document.getElementById('_fs_yqlifpykdvoqffddvwvx_ind_45').style.opacity = 1;\"\n",
       "            onmouseout=\"document.getElementById('_fb_yqlifpykdvoqffddvwvx_ind_45').style.opacity = 0; document.getElementById('_fs_yqlifpykdvoqffddvwvx_ind_45').style.opacity = 0;\"\n",
       "        >that's it, </div></div><div style='display: inline; text-align: center;'\n",
       "    ><div style='display: none; color: #999; padding-top: 0px; font-size: 12px;'>-0.003 / 3</div\n",
       "        ><div id='_tp_yqlifpykdvoqffddvwvx_ind_46'\n",
       "            style='display: inline; background: rgba(230.0, 242.0, 244.0, 0.022539116656763607); border-radius: 3px; padding: 0px'\n",
       "            onclick=\"\n",
       "            if (this.previousSibling.style.display == 'none') {\n",
       "                this.previousSibling.style.display = 'block';\n",
       "                this.parentNode.style.display = 'inline-block';\n",
       "            } else {\n",
       "                this.previousSibling.style.display = 'none';\n",
       "                this.parentNode.style.display = 'inline';\n",
       "            }\"\n",
       "            onmouseover=\"document.getElementById('_fb_yqlifpykdvoqffddvwvx_ind_46').style.opacity = 1; document.getElementById('_fs_yqlifpykdvoqffddvwvx_ind_46').style.opacity = 1;\"\n",
       "            onmouseout=\"document.getElementById('_fb_yqlifpykdvoqffddvwvx_ind_46').style.opacity = 0; document.getElementById('_fs_yqlifpykdvoqffddvwvx_ind_46').style.opacity = 0;\"\n",
       "        >I think. </div></div><div style='display: inline; text-align: center;'\n",
       "    ><div style='display: none; color: #999; padding-top: 0px; font-size: 12px;'>0.032 / 3</div\n",
       "        ><div id='_tp_yqlifpykdvoqffddvwvx_ind_47'\n",
       "            style='display: inline; background: rgba(255.0, 195.0, 0.0, 0.3142008318478907); border-radius: 3px; padding: 0px'\n",
       "            onclick=\"\n",
       "            if (this.previousSibling.style.display == 'none') {\n",
       "                this.previousSibling.style.display = 'block';\n",
       "                this.parentNode.style.display = 'inline-block';\n",
       "            } else {\n",
       "                this.previousSibling.style.display = 'none';\n",
       "                this.parentNode.style.display = 'inline';\n",
       "            }\"\n",
       "            onmouseover=\"document.getElementById('_fb_yqlifpykdvoqffddvwvx_ind_47').style.opacity = 1; document.getElementById('_fs_yqlifpykdvoqffddvwvx_ind_47').style.opacity = 1;\"\n",
       "            onmouseout=\"document.getElementById('_fb_yqlifpykdvoqffddvwvx_ind_47').style.opacity = 0; document.getElementById('_fs_yqlifpykdvoqffddvwvx_ind_47').style.opacity = 0;\"\n",
       "        >She's </div></div><div style='display: inline; text-align: center;'\n",
       "    ><div style='display: none; color: #999; padding-top: 0px; font-size: 12px;'>0.044 / 3</div\n",
       "        ><div id='_tp_yqlifpykdvoqffddvwvx_ind_48'\n",
       "            style='display: inline; background: rgba(255.0, 195.0, 0.0, 0.43244206773618543); border-radius: 3px; padding: 0px'\n",
       "            onclick=\"\n",
       "            if (this.previousSibling.style.display == 'none') {\n",
       "                this.previousSibling.style.display = 'block';\n",
       "                this.parentNode.style.display = 'inline-block';\n",
       "            } else {\n",
       "                this.previousSibling.style.display = 'none';\n",
       "                this.parentNode.style.display = 'inline';\n",
       "            }\"\n",
       "            onmouseover=\"document.getElementById('_fb_yqlifpykdvoqffddvwvx_ind_48').style.opacity = 1; document.getElementById('_fs_yqlifpykdvoqffddvwvx_ind_48').style.opacity = 1;\"\n",
       "            onmouseout=\"document.getElementById('_fb_yqlifpykdvoqffddvwvx_ind_48').style.opacity = 0; document.getElementById('_fs_yqlifpykdvoqffddvwvx_ind_48').style.opacity = 0;\"\n",
       "        >drying the </div></div><div style='display: inline; text-align: center;'\n",
       "    ><div style='display: none; color: #999; padding-top: 0px; font-size: 12px;'>0.01 / 2</div\n",
       "        ><div id='_tp_yqlifpykdvoqffddvwvx_ind_49'\n",
       "            style='display: inline; background: rgba(255.0, 195.0, 0.0, 0.09348385818974037); border-radius: 3px; padding: 0px'\n",
       "            onclick=\"\n",
       "            if (this.previousSibling.style.display == 'none') {\n",
       "                this.previousSibling.style.display = 'block';\n",
       "                this.parentNode.style.display = 'inline-block';\n",
       "            } else {\n",
       "                this.previousSibling.style.display = 'none';\n",
       "                this.parentNode.style.display = 'inline';\n",
       "            }\"\n",
       "            onmouseover=\"document.getElementById('_fb_yqlifpykdvoqffddvwvx_ind_49').style.opacity = 1; document.getElementById('_fs_yqlifpykdvoqffddvwvx_ind_49').style.opacity = 1;\"\n",
       "            onmouseout=\"document.getElementById('_fb_yqlifpykdvoqffddvwvx_ind_49').style.opacity = 0; document.getElementById('_fs_yqlifpykdvoqffddvwvx_ind_49').style.opacity = 0;\"\n",
       "        >dish</div></div><div style='display: inline; text-align: center;'\n",
       "    ><div style='display: none; color: #999; padding-top: 0px; font-size: 12px;'>0.0</div\n",
       "        ><div id='_tp_yqlifpykdvoqffddvwvx_ind_50'\n",
       "            style='display: inline; background: rgba(252.25490196078462, 200.16078431372495, 26.79215686274231, 0.0); border-radius: 3px; padding: 0px'\n",
       "            onclick=\"\n",
       "            if (this.previousSibling.style.display == 'none') {\n",
       "                this.previousSibling.style.display = 'block';\n",
       "                this.parentNode.style.display = 'inline-block';\n",
       "            } else {\n",
       "                this.previousSibling.style.display = 'none';\n",
       "                this.parentNode.style.display = 'inline';\n",
       "            }\"\n",
       "            onmouseover=\"document.getElementById('_fb_yqlifpykdvoqffddvwvx_ind_50').style.opacity = 1; document.getElementById('_fs_yqlifpykdvoqffddvwvx_ind_50').style.opacity = 1;\"\n",
       "            onmouseout=\"document.getElementById('_fb_yqlifpykdvoqffddvwvx_ind_50').style.opacity = 0; document.getElementById('_fs_yqlifpykdvoqffddvwvx_ind_50').style.opacity = 0;\"\n",
       "        >. </div></div><div style='display: inline; text-align: center;'\n",
       "    ><div style='display: none; color: #999; padding-top: 0px; font-size: 12px;'>0.005 / 2</div\n",
       "        ><div id='_tp_yqlifpykdvoqffddvwvx_ind_51'\n",
       "            style='display: inline; background: rgba(255.0, 195.0, 0.0, 0.04618736383442265); border-radius: 3px; padding: 0px'\n",
       "            onclick=\"\n",
       "            if (this.previousSibling.style.display == 'none') {\n",
       "                this.previousSibling.style.display = 'block';\n",
       "                this.parentNode.style.display = 'inline-block';\n",
       "            } else {\n",
       "                this.previousSibling.style.display = 'none';\n",
       "                this.parentNode.style.display = 'inline';\n",
       "            }\"\n",
       "            onmouseover=\"document.getElementById('_fb_yqlifpykdvoqffddvwvx_ind_51').style.opacity = 1; document.getElementById('_fs_yqlifpykdvoqffddvwvx_ind_51').style.opacity = 1;\"\n",
       "            onmouseout=\"document.getElementById('_fb_yqlifpykdvoqffddvwvx_ind_51').style.opacity = 0; document.getElementById('_fs_yqlifpykdvoqffddvwvx_ind_51').style.opacity = 0;\"\n",
       "        >Yes, </div></div><div style='display: inline; text-align: center;'\n",
       "    ><div style='display: none; color: #999; padding-top: 0px; font-size: 12px;'>0.001 / 2</div\n",
       "        ><div id='_tp_yqlifpykdvoqffddvwvx_ind_52'\n",
       "            style='display: inline; background: rgba(252.25490196078462, 200.16078431372495, 26.79215686274231, 0.0); border-radius: 3px; padding: 0px'\n",
       "            onclick=\"\n",
       "            if (this.previousSibling.style.display == 'none') {\n",
       "                this.previousSibling.style.display = 'block';\n",
       "                this.parentNode.style.display = 'inline-block';\n",
       "            } else {\n",
       "                this.previousSibling.style.display = 'none';\n",
       "                this.parentNode.style.display = 'inline';\n",
       "            }\"\n",
       "            onmouseover=\"document.getElementById('_fb_yqlifpykdvoqffddvwvx_ind_52').style.opacity = 1; document.getElementById('_fs_yqlifpykdvoqffddvwvx_ind_52').style.opacity = 1;\"\n",
       "            onmouseout=\"document.getElementById('_fb_yqlifpykdvoqffddvwvx_ind_52').style.opacity = 0; document.getElementById('_fs_yqlifpykdvoqffddvwvx_ind_52').style.opacity = 0;\"\n",
       "        >I can</div></div><div style='display: inline; text-align: center;'\n",
       "    ><div style='display: none; color: #999; padding-top: 0px; font-size: 12px;'>0.0</div\n",
       "        ><div id='_tp_yqlifpykdvoqffddvwvx_ind_53'\n",
       "            style='display: inline; background: rgba(252.25490196078462, 200.16078431372495, 26.79215686274231, 0.0); border-radius: 3px; padding: 0px'\n",
       "            onclick=\"\n",
       "            if (this.previousSibling.style.display == 'none') {\n",
       "                this.previousSibling.style.display = 'block';\n",
       "                this.parentNode.style.display = 'inline-block';\n",
       "            } else {\n",
       "                this.previousSibling.style.display = 'none';\n",
       "                this.parentNode.style.display = 'inline';\n",
       "            }\"\n",
       "            onmouseover=\"document.getElementById('_fb_yqlifpykdvoqffddvwvx_ind_53').style.opacity = 1; document.getElementById('_fs_yqlifpykdvoqffddvwvx_ind_53').style.opacity = 1;\"\n",
       "            onmouseout=\"document.getElementById('_fb_yqlifpykdvoqffddvwvx_ind_53').style.opacity = 0; document.getElementById('_fs_yqlifpykdvoqffddvwvx_ind_53').style.opacity = 0;\"\n",
       "        >. </div></div><div style='display: inline; text-align: center;'\n",
       "    ><div style='display: none; color: #999; padding-top: 0px; font-size: 12px;'>0.003 / 2</div\n",
       "        ><div id='_tp_yqlifpykdvoqffddvwvx_ind_54'\n",
       "            style='display: inline; background: rgba(255.0, 195.0, 0.0, 0.02253911665676371); border-radius: 3px; padding: 0px'\n",
       "            onclick=\"\n",
       "            if (this.previousSibling.style.display == 'none') {\n",
       "                this.previousSibling.style.display = 'block';\n",
       "                this.parentNode.style.display = 'inline-block';\n",
       "            } else {\n",
       "                this.previousSibling.style.display = 'none';\n",
       "                this.parentNode.style.display = 'inline';\n",
       "            }\"\n",
       "            onmouseover=\"document.getElementById('_fb_yqlifpykdvoqffddvwvx_ind_54').style.opacity = 1; document.getElementById('_fs_yqlifpykdvoqffddvwvx_ind_54').style.opacity = 1;\"\n",
       "            onmouseout=\"document.getElementById('_fb_yqlifpykdvoqffddvwvx_ind_54').style.opacity = 0; document.getElementById('_fs_yqlifpykdvoqffddvwvx_ind_54').style.opacity = 0;\"\n",
       "        >Okay, </div></div><div style='display: inline; text-align: center;'\n",
       "    ><div style='display: none; color: #999; padding-top: 0px; font-size: 12px;'>-0.05 / 2</div\n",
       "        ><div id='_tp_yqlifpykdvoqffddvwvx_ind_55'\n",
       "            style='display: inline; background: rgba(230.0, 242.0, 244.0, 0.4876213111507228); border-radius: 3px; padding: 0px'\n",
       "            onclick=\"\n",
       "            if (this.previousSibling.style.display == 'none') {\n",
       "                this.previousSibling.style.display = 'block';\n",
       "                this.parentNode.style.display = 'inline-block';\n",
       "            } else {\n",
       "                this.previousSibling.style.display = 'none';\n",
       "                this.parentNode.style.display = 'inline';\n",
       "            }\"\n",
       "            onmouseover=\"document.getElementById('_fb_yqlifpykdvoqffddvwvx_ind_55').style.opacity = 1; document.getElementById('_fs_yqlifpykdvoqffddvwvx_ind_55').style.opacity = 1;\"\n",
       "            onmouseout=\"document.getElementById('_fb_yqlifpykdvoqffddvwvx_ind_55').style.opacity = 0; document.getElementById('_fs_yqlifpykdvoqffddvwvx_ind_55').style.opacity = 0;\"\n",
       "        >so the</div></div><div style='display: inline; text-align: center;'\n",
       "    ><div style='display: none; color: #999; padding-top: 0px; font-size: 12px;'>-0.012</div\n",
       "        ><div id='_tp_yqlifpykdvoqffddvwvx_ind_56'\n",
       "            style='display: inline; background: rgba(230.0, 242.0, 244.0, 0.11713210536739943); border-radius: 3px; padding: 0px'\n",
       "            onclick=\"\n",
       "            if (this.previousSibling.style.display == 'none') {\n",
       "                this.previousSibling.style.display = 'block';\n",
       "                this.parentNode.style.display = 'inline-block';\n",
       "            } else {\n",
       "                this.previousSibling.style.display = 'none';\n",
       "                this.parentNode.style.display = 'inline';\n",
       "            }\"\n",
       "            onmouseover=\"document.getElementById('_fb_yqlifpykdvoqffddvwvx_ind_56').style.opacity = 1; document.getElementById('_fs_yqlifpykdvoqffddvwvx_ind_56').style.opacity = 1;\"\n",
       "            onmouseout=\"document.getElementById('_fb_yqlifpykdvoqffddvwvx_ind_56').style.opacity = 0; document.getElementById('_fs_yqlifpykdvoqffddvwvx_ind_56').style.opacity = 0;\"\n",
       "        ></div></div></div></div>"
      ],
      "text/plain": [
       "<IPython.core.display.HTML object>"
      ]
     },
     "metadata": {},
     "output_type": "display_data"
    }
   ],
   "source": [
    "display(HTML(shap_html_result))"
   ]
  },
  {
   "cell_type": "markdown",
   "metadata": {
    "id": "PUXVmcbYpB9L"
   },
   "source": [
    "# **Component 3: Linguistic Features of the Transcripts (NEW In Phase 3)**\n",
    "\n",
    "\n",
    "---\n",
    "Extraction of a set of predefined linguistic features from the transcripts. These features provide a method to quantify the transcript with regard to four main categories (Lexical Richness, Syntactic Complexity, Disfluencies and Repetition, and Semantic Coherence and Referential Clarity), which are later used to provide an interpretation of the transcripts.\n",
    "\n"
   ]
  },
  {
   "cell_type": "markdown",
   "metadata": {
    "id": "gT1n3Lktq2qg"
   },
   "source": [
    "#### Initalizing the linguistic explainer class\n"
   ]
  },
  {
   "cell_type": "code",
   "execution_count": 18,
   "metadata": {
    "colab": {
     "base_uri": "https://localhost:8080/"
    },
    "id": "3h1dMwD1q2qh",
    "outputId": "ae240eae-92be-402c-b277-74dca462f512"
   },
   "outputs": [
    {
     "name": "stdout",
     "output_type": "stream",
     "text": [
      "Linguistic Feature Extractor ready for analysis\n"
     ]
    }
   ],
   "source": [
    "linguistc_feature_extractor = TextFeatureExtractor()\n",
    "print(\"Linguistic Feature Extractor ready for analysis\")"
   ]
  },
  {
   "cell_type": "markdown",
   "metadata": {
    "id": "JM-oBNi4qd5G"
   },
   "source": [
    "#### Run inference to get predicted_label and transcription"
   ]
  },
  {
   "cell_type": "code",
   "execution_count": null,
   "metadata": {
    "id": "LezyxM3Jqd5H"
   },
   "outputs": [],
   "source": [
    "predicted_label, probabilities = model.inference(config=config,audio_path = processed_audio_path, demography_info=AGE)\n",
    "print(\"Running inference to compute predicted_label and transcription.\")"
   ]
  },
  {
   "cell_type": "markdown",
   "metadata": {
    "id": "UNrLtK3OrMzC"
   },
   "source": [
    "#### Generate Linguistic Features\n"
   ]
  },
  {
   "cell_type": "code",
   "execution_count": null,
   "metadata": {
    "id": "MYe65VmL8OF3"
   },
   "outputs": [],
   "source": [
    "linguistc_feature = linguistc_feature_extractor.extract_all_features(text = model.transcription, audio_path= processed_audio_path,save_path = \"\")\n",
    "linguistc_feature = linguistc_feature.loc[0, \"Content_Density\":].to_dict() # Select only the columns with the linguistic features"
   ]
  },
  {
   "cell_type": "markdown",
   "metadata": {
    "id": "qAlkRHTFrOeO"
   },
   "source": [
    "#### Displaying Linguistic Features"
   ]
  },
  {
   "cell_type": "code",
   "execution_count": 22,
   "metadata": {
    "id": "F3lt-H20-vEx"
   },
   "outputs": [],
   "source": [
    "linguistic_features_html = visualize_linguistic_features(linguistc_feature)"
   ]
  },
  {
   "cell_type": "code",
   "execution_count": 23,
   "metadata": {
    "colab": {
     "base_uri": "https://localhost:8080/",
     "height": 1000
    },
    "id": "tAX7zs1G-3Kh",
    "outputId": "41a0cb67-6450-4bb4-f500-c9f42cca61f8"
   },
   "outputs": [
    {
     "data": {
      "text/html": [
       "\n",
       "    <!DOCTYPE html>\n",
       "    <html>\n",
       "    <head>\n",
       "        <style>\n",
       "            body { \n",
       "                font-family: 'Arial', sans-serif; \n",
       "                line-height: 1.6; \n",
       "                color: #333; \n",
       "                max-width: 1000px; \n",
       "                margin: 0 auto; \n",
       "                padding: 20px;\n",
       "                background-color: #fafafa;\n",
       "            }\n",
       "            .category { \n",
       "                background-color: white; \n",
       "                border-radius: 8px; \n",
       "                padding: 20px; \n",
       "                margin-bottom: 25px;\n",
       "                box-shadow: 0 2px 5px rgba(0,0,0,0.05);\n",
       "                border-left: 4px solid #1E3658;\n",
       "            }\n",
       "            .category-title { \n",
       "                font-size: 1.3em; \n",
       "                font-weight: bold; \n",
       "                color: #1E3658;  /* Dark Blue */\n",
       "                margin-top: 0;\n",
       "                margin-bottom: 10px;\n",
       "            }\n",
       "            .category-desc { \n",
       "                margin-bottom: 15px; \n",
       "                color: #5a6a7a;\n",
       "                line-height: 1.5;\n",
       "            }\n",
       "            table { \n",
       "                width: 100%; \n",
       "                border-collapse: separate;\n",
       "                border-spacing: 0;\n",
       "                margin-bottom: 15px;\n",
       "            }\n",
       "            th { \n",
       "                background-color: #1E3658;  /* Dark Blue */\n",
       "                color: white;\n",
       "                text-align: left; \n",
       "                padding: 12px 10px;\n",
       "                font-weight: 600;\n",
       "            }\n",
       "            td { \n",
       "                padding: 10px; \n",
       "                border-bottom: 1px solid #e0e0e0; \n",
       "                vertical-align: top;\n",
       "            }\n",
       "            tr:nth-child(even) { \n",
       "                background-color: #f8f8f8; \n",
       "            }\n",
       "            tr:hover {\n",
       "                background-color: #f0f7f0;  /* Pale Green tint */\n",
       "            }\n",
       "            .value { \n",
       "                font-weight: bold; \n",
       "                color: #1E3658;  /* Dark Blue */\n",
       "            }\n",
       "            .range { \n",
       "                font-family: 'Courier New', monospace; \n",
       "                color: #7FA37F;  /* Pale Green */\n",
       "                font-weight: 500;\n",
       "            }\n",
       "            .interpretation { \n",
       "                font-size: 0.9em; \n",
       "                color: #6d7a88;\n",
       "                line-height: 1.4;\n",
       "            }\n",
       "            .missing {\n",
       "                color: #95a5a6; \n",
       "                font-style: italic;\n",
       "            }\n",
       "        </style>\n",
       "    </head>\n",
       "    <body>\n",
       "    \n",
       "        <div class=\"category\">\n",
       "            <h2 class=\"category-title\">Lexical Richness</h2>\n",
       "            <p class=\"category-desc\">Reduced vocabulary diversity may reflect word-finding difficulties and lexical retrieval deficits.</p>\n",
       "            <table>\n",
       "                <tr>\n",
       "                    <th>Feature</th>\n",
       "                    <th>Value</th>\n",
       "                    <th>Normal Range</th>\n",
       "                    <th>Interpretation</th>\n",
       "                </tr>\n",
       "        \n",
       "                <tr>\n",
       "                    <td>Type-Token Ratio (TTR)</td>\n",
       "                    <td class=\"value\">0.475</td>\n",
       "                    <td class=\"range\">0-1</td>\n",
       "                    <td class=\"interpretation\">LOW: repetitive; HIGH: diverse</td>\n",
       "                </tr>\n",
       "            \n",
       "                <tr>\n",
       "                    <td>Root Type-Token Ratio (RTTR)</td>\n",
       "                    <td class=\"value\">5.251</td>\n",
       "                    <td class=\"range\">2.0-8.0 (Guiraud's Index)</td>\n",
       "                    <td class=\"interpretation\">LOW: simple vocab; HIGH: varied vocab</td>\n",
       "                </tr>\n",
       "            \n",
       "                <tr>\n",
       "                    <td>Corrected Type-Token Ratio (CTTR)</td>\n",
       "                    <td class=\"value\">3.713</td>\n",
       "                    <td class=\"range\">1.5-5.0 (Carroll's CTTR)</td>\n",
       "                    <td class=\"interpretation\">LOW: restricted vocab; HIGH: rich vocab</td>\n",
       "                </tr>\n",
       "            \n",
       "                <tr>\n",
       "                    <td>Brunet's Index</td>\n",
       "                    <td class=\"value\">11.685</td>\n",
       "                    <td class=\"range\">~10-100</td>\n",
       "                    <td class=\"interpretation\">LOW: diverse; HIGH: limited vocab</td>\n",
       "                </tr>\n",
       "            \n",
       "                <tr>\n",
       "                    <td>Honoré's Statistic</td>\n",
       "                    <td class=\"value\">1272.505</td>\n",
       "                    <td class=\"range\">~0-2000</td>\n",
       "                    <td class=\"interpretation\">LOW: low richness; HIGH: high richness</td>\n",
       "                </tr>\n",
       "            \n",
       "                <tr>\n",
       "                    <td>Measure of Textual Lexical Diversity (MTLD)</td>\n",
       "                    <td class=\"value\">23.907</td>\n",
       "                    <td class=\"range\">~10-150</td>\n",
       "                    <td class=\"interpretation\">LOW: limited vocab; HIGH: stable diversity</td>\n",
       "                </tr>\n",
       "            \n",
       "                <tr>\n",
       "                    <td>Hypergeometric Distribution Diversity (HDD)</td>\n",
       "                    <td class=\"value\">1.0</td>\n",
       "                    <td class=\"range\">0-1</td>\n",
       "                    <td class=\"interpretation\">LOW: low diversity; HIGH: diverse vocab</td>\n",
       "                </tr>\n",
       "            \n",
       "                <tr>\n",
       "                    <td>Ratio unique word count to total word count</td>\n",
       "                    <td class=\"value\">0.475</td>\n",
       "                    <td class=\"range\">0-1</td>\n",
       "                    <td class=\"interpretation\">LOW: repetition; HIGH: variety</td>\n",
       "                </tr>\n",
       "            \n",
       "                <tr>\n",
       "                    <td>Unique Word count</td>\n",
       "                    <td class=\"value\">58.0</td>\n",
       "                    <td class=\"range\">10-∞</td>\n",
       "                    <td class=\"interpretation\">LOW: restricted vocab; HIGH: lexical richness</td>\n",
       "                </tr>\n",
       "            \n",
       "                <tr>\n",
       "                    <td>Lexical frequency</td>\n",
       "                    <td class=\"value\">5.358</td>\n",
       "                    <td class=\"range\">0-∞</td>\n",
       "                    <td class=\"interpretation\">LOW: rare words; HIGH: frequent/common words</td>\n",
       "                </tr>\n",
       "            \n",
       "                <tr>\n",
       "                    <td>Content words ratio</td>\n",
       "                    <td class=\"value\">0.377</td>\n",
       "                    <td class=\"range\">0-1</td>\n",
       "                    <td class=\"interpretation\">LOW: vague; HIGH: info-rich</td>\n",
       "                </tr>\n",
       "            \n",
       "            </table>\n",
       "        </div>\n",
       "        \n",
       "        <div class=\"category\">\n",
       "            <h2 class=\"category-title\">Syntactic Complexity</h2>\n",
       "            <p class=\"category-desc\">Simplified grammar and reduced structural variety may signal cognitive decline affecting sentence planning.</p>\n",
       "            <table>\n",
       "                <tr>\n",
       "                    <th>Feature</th>\n",
       "                    <th>Value</th>\n",
       "                    <th>Normal Range</th>\n",
       "                    <th>Interpretation</th>\n",
       "                </tr>\n",
       "        \n",
       "                <tr>\n",
       "                    <td>Part_of_Speech_rate</td>\n",
       "                    <td class=\"value\">0.8</td>\n",
       "                    <td class=\"range\">0-1</td>\n",
       "                    <td class=\"interpretation\">LOW: reduced variation; HIGH: balanced grammar</td>\n",
       "                </tr>\n",
       "            \n",
       "                <tr>\n",
       "                    <td>Relative_pronouns_rate</td>\n",
       "                    <td class=\"value\">0</td>\n",
       "                    <td class=\"range\">0-1</td>\n",
       "                    <td class=\"interpretation\">LOW: simple syntax; HIGH: complex clauses</td>\n",
       "                </tr>\n",
       "            \n",
       "                <tr>\n",
       "                    <td>Determiners Ratio</td>\n",
       "                    <td class=\"value\">0.131</td>\n",
       "                    <td class=\"range\">0-1</td>\n",
       "                    <td class=\"interpretation\">LOW: vague; HIGH: clear reference</td>\n",
       "                </tr>\n",
       "            \n",
       "                <tr>\n",
       "                    <td>Verbs Ratio</td>\n",
       "                    <td class=\"value\">0.131</td>\n",
       "                    <td class=\"range\">0-1</td>\n",
       "                    <td class=\"interpretation\">LOW: static speech; HIGH: dynamic structure</td>\n",
       "                </tr>\n",
       "            \n",
       "                <tr>\n",
       "                    <td>Nouns Ratio</td>\n",
       "                    <td class=\"value\">0.156</td>\n",
       "                    <td class=\"range\">0-1</td>\n",
       "                    <td class=\"interpretation\">LOW: low content; HIGH: info-dense</td>\n",
       "                </tr>\n",
       "            \n",
       "                <tr>\n",
       "                    <td>Negative_adverbs_rate</td>\n",
       "                    <td class=\"value\">0.0</td>\n",
       "                    <td class=\"range\">0-1</td>\n",
       "                    <td class=\"interpretation\">LOW: less negation; HIGH: complex expression</td>\n",
       "                </tr>\n",
       "            \n",
       "                <tr>\n",
       "                    <td>Word count</td>\n",
       "                    <td class=\"value\">122.0</td>\n",
       "                    <td class=\"range\">10-∞</td>\n",
       "                    <td class=\"interpretation\">LOW: brevity; HIGH: verbosity/planning</td>\n",
       "                </tr>\n",
       "            \n",
       "            </table>\n",
       "        </div>\n",
       "        \n",
       "        <div class=\"category\">\n",
       "            <h2 class=\"category-title\">Disfluencies and Repetition</h2>\n",
       "            <p class=\"category-desc\">Frequent hesitations, fillers, or repeated phrases may reflect planning difficulties and reduced cognitive flexibility.</p>\n",
       "            <table>\n",
       "                <tr>\n",
       "                    <th>Feature</th>\n",
       "                    <th>Value</th>\n",
       "                    <th>Normal Range</th>\n",
       "                    <th>Interpretation</th>\n",
       "                </tr>\n",
       "        \n",
       "                <tr>\n",
       "                    <td>Speech rate (wps)</td>\n",
       "                    <td class=\"value\">4.067</td>\n",
       "                    <td class=\"range\">2.3-3.3 wps</td>\n",
       "                    <td class=\"interpretation\">LOW: slowed cognition; HIGH: normal/pressured</td>\n",
       "                </tr>\n",
       "            \n",
       "                <tr>\n",
       "                    <td>Consecutive repeated clauses count</td>\n",
       "                    <td class=\"value\">2.0</td>\n",
       "                    <td class=\"range\">0-∞</td>\n",
       "                    <td class=\"interpretation\">LOW: flexible; HIGH: perseveration</td>\n",
       "                </tr>\n",
       "            \n",
       "            </table>\n",
       "        </div>\n",
       "        \n",
       "        <div class=\"category\">\n",
       "            <h2 class=\"category-title\">Semantic Coherence and Referential Clarity</h2>\n",
       "            <p class=\"category-desc\">Vague references and reduced cohesion may indicate impaired semantic organization and discourse tracking.</p>\n",
       "            <table>\n",
       "                <tr>\n",
       "                    <th>Feature</th>\n",
       "                    <th>Value</th>\n",
       "                    <th>Normal Range</th>\n",
       "                    <th>Interpretation</th>\n",
       "                </tr>\n",
       "        \n",
       "                <tr>\n",
       "                    <td>Content_Density</td>\n",
       "                    <td class=\"value\">0.456</td>\n",
       "                    <td class=\"range\">0-1</td>\n",
       "                    <td class=\"interpretation\">LOW: vague; HIGH: info-rich</td>\n",
       "                </tr>\n",
       "            \n",
       "                <tr>\n",
       "                    <td>Reference_Rate_to_Reality (noun-to-verb ratio)</td>\n",
       "                    <td class=\"value\">1.187</td>\n",
       "                    <td class=\"range\">0-∞</td>\n",
       "                    <td class=\"interpretation\">LOW: abstract; HIGH: concrete info</td>\n",
       "                </tr>\n",
       "            \n",
       "                <tr>\n",
       "                    <td>Pronouns Ratio</td>\n",
       "                    <td class=\"value\">0.18</td>\n",
       "                    <td class=\"range\">0-1</td>\n",
       "                    <td class=\"interpretation\">LOW: specific; HIGH: ambiguous</td>\n",
       "                </tr>\n",
       "            \n",
       "                <tr>\n",
       "                    <td>Definite_articles Ratio</td>\n",
       "                    <td class=\"value\">0.123</td>\n",
       "                    <td class=\"range\">0-1</td>\n",
       "                    <td class=\"interpretation\">LOW: vague; HIGH: specific reference</td>\n",
       "                </tr>\n",
       "            \n",
       "                <tr>\n",
       "                    <td>Indefinite_articles Ratio</td>\n",
       "                    <td class=\"value\">0.008</td>\n",
       "                    <td class=\"range\">0-1</td>\n",
       "                    <td class=\"interpretation\">LOW: specific; HIGH: general</td>\n",
       "                </tr>\n",
       "            \n",
       "            </table>\n",
       "        </div>\n",
       "        \n",
       "    </body>\n",
       "    </html>\n",
       "    "
      ],
      "text/plain": [
       "<IPython.core.display.HTML object>"
      ]
     },
     "metadata": {},
     "output_type": "display_data"
    }
   ],
   "source": [
    "display(HTML(linguistic_features_html))"
   ]
  },
  {
   "cell_type": "markdown",
   "metadata": {
    "id": "n8mR9_wGHm_D"
   },
   "source": [
    "# **Component 4: Transcript Interpretation with Linguistic Features and SHAP Analysis: LLaMA 70B as LLM for Interpretation (IMPROVED IN PAHSE 3 using Tree of Thought Reasoning)**\n",
    "---\n",
    "The system integrates token-level SHAP values with quantified linguistic features to interpret the transcript across multiple dimensions. The Tree of Thoughts methods has been used in prompting for generating the final interpretation. This approach provides a deep interpretation of linguistic features (Lexical Richness, Syntactic Complexity,Disfluencies and Repetition, and Semantic Coherence and Referential Clarity) associated with cognitive impairment.The details are as follows:\n",
    "\n"
   ]
  },
  {
   "cell_type": "markdown",
   "metadata": {
    "id": "Aay_o14Brrcp"
   },
   "source": [
    "#### Initalizing the Transcription Interpreter class\n"
   ]
  },
  {
   "cell_type": "code",
   "execution_count": 24,
   "metadata": {
    "id": "ZLZ1yeqhrrcp"
   },
   "outputs": [],
   "source": [
    "interpreter = TextInterpreter(openai_config = open_ai)"
   ]
  },
  {
   "cell_type": "markdown",
   "metadata": {
    "id": "A7LRTWfXsUS4"
   },
   "source": [
    "#### Run inference to get predicted_label, transcription, and probabilities"
   ]
  },
  {
   "cell_type": "code",
   "execution_count": null,
   "metadata": {
    "id": "vrcL3ih1sUS5"
   },
   "outputs": [],
   "source": [
    "predicted_label, probabilities = model.inference(config=config,audio_path = processed_audio_path, demography_info=AGE)\n",
    "print(\"Running inference to compute predicted_label and transcription.\")"
   ]
  },
  {
   "cell_type": "markdown",
   "metadata": {
    "id": "ZQy6E0oqsHWl"
   },
   "source": [
    "#### Generate the Interpretation of the Transcription"
   ]
  },
  {
   "cell_type": "code",
   "execution_count": 26,
   "metadata": {
    "id": "6vbUMf3Orrcq"
   },
   "outputs": [],
   "source": [
    "result_linguistic = interpreter.get_all_interpretations(model.transcription,predicted_label, shap_values, linguistc_feature, probabilities)"
   ]
  },
  {
   "cell_type": "markdown",
   "metadata": {
    "id": "2kzXRHv3Nbzi"
   },
   "source": [
    "#### **Step 1. SHAP-values Analysis:** It analyzes the SHAP values to identify which parts of the text most influenced the model’s decision, focusing on lexical items, syntactic patterns, and semantic cues."
   ]
  },
  {
   "cell_type": "code",
   "execution_count": 27,
   "metadata": {
    "colab": {
     "base_uri": "https://localhost:8080/",
     "height": 389
    },
    "id": "GMcB3GgCN27C",
    "outputId": "359b9926-40bb-4b25-e045-d1ca96a2207f"
   },
   "outputs": [
    {
     "data": {
      "text/markdown": [
       "Here is the analysis of the text in terms of the provided linguistic features:\n",
       "\n",
       "• **Lexical Richness**: The speaker uses simple vocabulary and repeats words (\"cookie jar\", \"stool\", \"what else\"), indicating potential word-finding issues or overuse of familiar words. This feature supports the model's prediction of cognitive impairment.\n",
       "\n",
       "• **Syntactic Complexity**: The speaker's sentence structure is simplified, with short, fragmented sentences and a lack of complex grammar. This feature also supports the model's prediction.\n",
       "\n",
       "• **Disfluencies and Repetition**: The speaker frequently uses fillers (\"and\", \"what else\") and repeats words, indicating disfluency. This feature is consistent with cognitive impairment.\n",
       "\n",
       "• **Semantic Coherence**: The speaker's ideas are somewhat disorganized, jumping between different elements of the scene (e.g., the boy on the stool, the mother drying dishes, the backyard). This feature supports the model's prediction.\n",
       "\n",
       "• **Difficulty with Spatial Reasoning and Visualization**: The speaker has trouble describing the spatial relationships between objects (e.g., \"it's on the top shelf\", \"the kitchen is overflowing\"). This feature is indicative of cognitive impairment.\n",
       "\n",
       "• **Impaired Executive Function**: The speaker's speech is disorganized, with abrupt topic changes and a lack of clear sequencing. This feature strongly supports the model's prediction.\n",
       "\n",
       "• **Additional Feature: Lack of Descriptive Detail**: The speaker fails to provide detailed descriptions of the scene, relying on vague references (e.g., \"the kitchen is overflowing\"). This feature is consistent with cognitive impairment.\n",
       "\n",
       "Overall, the speaker's language patterns suggest difficulties with word-finding, sentence structure, and spatial reasoning, as well as disorganized and repetitive speech. These features collectively support the model's prediction of cognitive impairment with a confidence level of 0.7129285931587219."
      ],
      "text/plain": [
       "<IPython.core.display.Markdown object>"
      ]
     },
     "metadata": {},
     "output_type": "display_data"
    }
   ],
   "source": [
    "display(Markdown(result_linguistic[1]))"
   ]
  },
  {
   "cell_type": "markdown",
   "metadata": {
    "id": "SvCqjSOyOISj"
   },
   "source": [
    "#### **Step 2. Linguistic Features Analysis:** It incorporates linguistic features categorized into four key categories: Lexical Richness (e.g., diversity of vocabulary), Syntactic Complexity (e.g., use of simple or complex sentences' structure), Disfluencies and Repetition (e.g., fillers, pauses, repeated words), and Semantic Coherence and Referential Clarity (e.g., logical flow, clear **pronoun referents**)."
   ]
  },
  {
   "cell_type": "code",
   "execution_count": 28,
   "metadata": {
    "colab": {
     "base_uri": "https://localhost:8080/",
     "height": 318
    },
    "id": "gTwhWEBsOStw",
    "outputId": "9c86196a-7e8d-4561-f09c-a0563804feb9"
   },
   "outputs": [
    {
     "data": {
      "text/markdown": [
       "**Analysis of Linguistic Features in Relation to Cognitive Status**\n",
       "\n",
       "Based on the provided text and linguistic features, here is a concise analysis of the speaker's language use and its implications for cognitive status:\n",
       "\n",
       "* **Lexical Richness:** The speaker's vocabulary is somewhat restricted, as indicated by low values in Type-Token Ratio (TTR), Root Type-Token Ratio (RTTR), and Corrected Type-Token Ratio (CTTR). This may suggest word-finding difficulties or lexical retrieval deficits. However, the Unique Word Count is relatively high (58), indicating some degree of lexical richness.\n",
       "* **Syntactic Complexity:** The speaker's syntax is relatively simple, with low values in Part_of_Speech_rate and Relative_pronouns_rate. This may indicate reduced structural variety and sentence planning abilities.\n",
       "* **Disfluencies and Repetition:** The speaker exhibits some disfluencies, with a Consecutive Repeated Clauses Count of 2. This may reflect planning difficulties and reduced cognitive flexibility.\n",
       "* **Semantic Coherence and Referential Clarity:** The speaker's language is somewhat vague, with low values in Content_Density and Reference_Rate_to_Reality. This may indicate impaired semantic organization and discourse tracking.\n",
       "\n",
       "**Model's Prediction and Confidence:**\n",
       "\n",
       "The machine learning model predicts cognitive impairment with a confidence of 0.7129285931587219. Based on the analysis of linguistic features, this prediction is supported by the speaker's restricted vocabulary, simple syntax, disfluencies, and vague language.\n",
       "\n",
       "**Key Aspects of the Analysis:**\n",
       "\n",
       "* The speaker's language is characterized by a mix of restricted and rich vocabulary, suggesting some degree of lexical retrieval deficits.\n",
       "* Simple syntax and disfluencies may indicate reduced cognitive flexibility and planning difficulties.\n",
       "* Vague language and low semantic coherence may reflect impaired semantic organization and discourse tracking.\n",
       "* The model's prediction of cognitive impairment is supported by these linguistic features, which are consistent with cognitive decline.\n",
       "\n",
       "Overall, the analysis suggests that the speaker's language use is consistent with cognitive impairment, particularly in terms of lexical richness, syntactic complexity, and semantic coherence."
      ],
      "text/plain": [
       "<IPython.core.display.Markdown object>"
      ]
     },
     "metadata": {},
     "output_type": "display_data"
    }
   ],
   "source": [
    "display(Markdown(result_linguistic[3]))\n"
   ]
  },
  {
   "cell_type": "markdown",
   "metadata": {
    "id": "aLCgPis_OW08"
   },
   "source": [
    "#### **Step 3. Reasoning:** Reasoning using Tree of Thought: outputs of the step 1 and step 2 are given to the llama model to capture the interplay between SHAP-based interpretation (surface-level cues) and linguistic feature interpretation (deeper structural and semantic patterns) in the transcript, using tree of thought technique."
   ]
  },
  {
   "cell_type": "code",
   "execution_count": 29,
   "metadata": {
    "colab": {
     "base_uri": "https://localhost:8080/",
     "height": 458
    },
    "id": "ohmtf2DQOf1A",
    "outputId": "0a9fee48-7a4a-43ac-fbe4-3938ac50d01c"
   },
   "outputs": [
    {
     "data": {
      "text/markdown": [
       "**Unified Analysis of Cognitive Status**\n",
       "\n",
       "Based on the two expert interpretations, the following key aspects of the analysis describe the linguistic features of the passage and their implications for cognitive status:\n",
       "\n",
       "• **Lexical Richness:** The speaker's vocabulary is somewhat restricted, with low values in Type-Token Ratio (TTR) and other lexical richness metrics. However, the Unique Word Count is relatively high, indicating some degree of lexical richness. This mixed pattern may suggest word-finding difficulties or lexical retrieval deficits, which are consistent with cognitive impairment.\n",
       "\n",
       "• **Syntactic Complexity:** The speaker's sentence structure is simplified, with short, fragmented sentences and a lack of complex grammar. This feature supports the model's prediction of cognitive impairment and is consistent with reduced structural variety and sentence planning abilities.\n",
       "\n",
       "• **Disfluencies and Repetition:** The speaker exhibits disfluencies, including fillers (\"and\", \"what else\") and repeated words. This feature is consistent with cognitive impairment and may reflect planning difficulties and reduced cognitive flexibility.\n",
       "\n",
       "• **Semantic Coherence:** The speaker's ideas are somewhat disorganized, jumping between different elements of the scene. This feature supports the model's prediction of cognitive impairment and is consistent with impaired semantic organization and discourse tracking.\n",
       "\n",
       "• **Difficulty with Spatial Reasoning and Visualization:** The speaker has trouble describing the spatial relationships between objects, which is indicative of cognitive impairment.\n",
       "\n",
       "• **Impaired Executive Function:** The speaker's speech is disorganized, with abrupt topic changes and a lack of clear sequencing. This feature strongly supports the model's prediction of cognitive impairment.\n",
       "\n",
       "• **Additional Feature: Lack of Descriptive Detail:** The speaker fails to provide detailed descriptions of the scene, relying on vague references. This feature is consistent with cognitive impairment and may reflect impaired semantic organization and discourse tracking.\n",
       "\n",
       "Overall, the analysis suggests that the speaker's language use is consistent with cognitive impairment, characterized by restricted vocabulary, simple syntax, disfluencies, and vague language. The model's prediction of cognitive impairment is supported by these linguistic features, which are consistent with cognitive decline."
      ],
      "text/plain": [
       "<IPython.core.display.Markdown object>"
      ]
     },
     "metadata": {},
     "output_type": "display_data"
    }
   ],
   "source": [
    "display(Markdown(result_linguistic[5]))\n"
   ]
  },
  {
   "cell_type": "markdown",
   "metadata": {
    "id": "jKo7eOi-s58J"
   },
   "source": [
    "#### **Step 4. Summarization:** It provides a brief, clear, and human-understandable interpretation of the four linguistic categories."
   ]
  },
  {
   "cell_type": "code",
   "execution_count": 30,
   "metadata": {
    "id": "qCKomP0MJIs6"
   },
   "outputs": [],
   "source": [
    "linguistic_interpretation_html = generate_final_linguistic_interpretation_html(result_linguistic[-1])"
   ]
  },
  {
   "cell_type": "code",
   "execution_count": 31,
   "metadata": {
    "colab": {
     "base_uri": "https://localhost:8080/",
     "height": 415
    },
    "id": "yUkGT-Dhs_sU",
    "outputId": "7061868a-a51e-4e78-c175-8171c08daa0c"
   },
   "outputs": [
    {
     "data": {
      "text/html": [
       "\n",
       "    <!DOCTYPE html>\n",
       "    <html>\n",
       "    <head>\n",
       "        <style>\n",
       "            body {\n",
       "                font-family: Arial, sans-serif;\n",
       "                background-color: white;\n",
       "                color: #333;\n",
       "                line-height: 1.6;\n",
       "                max-width: 1000px;\n",
       "                margin: 0 auto;\n",
       "                padding: 20px;\n",
       "            }\n",
       "            .interpretation-container {\n",
       "                background-color: white;\n",
       "                border-radius: 5px;\n",
       "                padding: 20px;\n",
       "                box-shadow: 0 2px 10px rgba(0,0,0,0.05);\n",
       "            }\n",
       "            .signif_item {\n",
       "                margin: 12px 0;\n",
       "                padding-left: 20px;\n",
       "                position: relative;\n",
       "            }\n",
       "      \n",
       "            .bullet_point {\n",
       "                display: inline-block;\n",
       "                width: 8px !important;\n",
       "                height: 8px !important;\n",
       "                background-color: #1E3658;\n",
       "                border-radius: 50%;\n",
       "                margin-right: 8px;\n",
       "                margin-top: 7px;\n",
       "            }\n",
       "            .prediction {\n",
       "                margin-top: 20px;\n",
       "                padding: 10px 15px;\n",
       "                background-color: #f8f9fa;\n",
       "                font-weight: bold;\n",
       "            }\n",
       "            .category-title {\n",
       "                color: #1E3658;  /* DARK BLUE */\n",
       "                font-weight: bold;\n",
       "                white-space: nowrap;\n",
       "            }\n",
       "        </style>\n",
       "    </head>\n",
       "    <body>\n",
       "        <div class=\"interpretation-container\">\n",
       "    <div class=\"signif_item\"><span class=\"bullet_point\"></span><b style=\"color:#1E3658; white-space:nowrap\">Disfluencies and Repetition:</b> The speaker exhibits disfluencies, including fillers (\"and\", \"what else\") and repeated words, such as \"what else\" and \"the cookie jar\". This feature is consistent with cognitive impairment and may reflect planning difficulties and reduced cognitive flexibility.</div><div class=\"signif_item\"><span class=\"bullet_point\"></span><b style=\"color:#1E3658; white-space:nowrap\">Difficulty with Spatial Reasoning and Visualization:</b> The speaker has trouble describing the spatial relationships between objects, for example, \"the kitchen is overflowing\" and \"the mom's going to slip on the water\" lack clear spatial relationships.</div><div class=\"signif_item\"><span class=\"bullet_point\"></span><b style=\"color:#1E3658; white-space:nowrap\">Impaired Executive Function:</b> The speaker's speech is disorganized, with abrupt topic changes, such as switching from describing the boy to the mother and then to the kitchen, and a lack of clear sequencing.</div><div class=\"signif_item\"><span class=\"bullet_point\"></span><b style=\"color:#1E3658; white-space:nowrap\">Semantic Coherence:</b> The speaker's ideas are somewhat disorganized, jumping between different elements of the scene, for example, \"the cookie jar, boy and a girl and it's on the top shelf\" and then \"the mom's going to slip on the water\".</div>\n",
       "            <div class=\"prediction\" style=\"color:#1E3658\">\n",
       "                <b style=\"color:#1E3658\">The speaker is predicted to be cognitively impaired.</b>\n",
       "            </div>\n",
       "            \n",
       "        </div>\n",
       "    </body>\n",
       "    </html>\n",
       "    "
      ],
      "text/plain": [
       "<IPython.core.display.HTML object>"
      ]
     },
     "metadata": {},
     "output_type": "display_data"
    }
   ],
   "source": [
    "display(HTML(linguistic_interpretation_html))"
   ]
  }
 ],
 "metadata": {
  "accelerator": "GPU",
  "colab": {
   "collapsed_sections": [
    "d8hVEd--IOFX",
    "3lQ_laWcNect",
    "SFiRtQ6tBu2L",
    "_urUPBZSvPwh",
    "RvkUn_iyvPwi",
    "PUXVmcbYpB9L",
    "gT1n3Lktq2qg",
    "JM-oBNi4qd5G",
    "UNrLtK3OrMzC",
    "qAlkRHTFrOeO",
    "Aay_o14Brrcp",
    "A7LRTWfXsUS4"
   ],
   "gpuType": "T4",
   "provenance": []
  },
  "kernelspec": {
   "display_name": "Python 3 (ipykernel)",
   "language": "python",
   "name": "python3"
  },
  "language_info": {
   "codemirror_mode": {
    "name": "ipython",
    "version": 3
   },
   "file_extension": ".py",
   "mimetype": "text/x-python",
   "name": "python",
   "nbconvert_exporter": "python",
   "pygments_lexer": "ipython3",
   "version": "3.10.12"
  }
 },
 "nbformat": 4,
 "nbformat_minor": 4
}
